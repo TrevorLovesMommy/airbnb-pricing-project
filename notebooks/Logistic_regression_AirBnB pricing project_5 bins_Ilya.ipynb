{
 "cells": [
  {
   "cell_type": "code",
   "execution_count": 1,
   "metadata": {},
   "outputs": [],
   "source": [
    "## Dependencies\n",
    "import pandas as pd\n",
    "import numpy as np\n",
    "\n",
    "import warnings\n",
    "warnings.simplefilter('ignore')\n",
    "\n",
    "%matplotlib inline\n",
    "import matplotlib.pyplot as plt\n",
    "\n",
    "from sklearn.model_selection import train_test_split, GridSearchCV\n",
    "from sklearn.metrics import mean_squared_error, r2_score\n",
    "from sklearn.preprocessing import StandardScaler, MinMaxScaler, LabelEncoder, OneHotEncoder\n",
    "from sklearn.linear_model import LogisticRegression"
   ]
  },
  {
   "cell_type": "code",
   "execution_count": 2,
   "metadata": {},
   "outputs": [],
   "source": [
    "##Ilya, your code starts here"
   ]
  },
  {
   "cell_type": "code",
   "execution_count": 3,
   "metadata": {},
   "outputs": [
    {
     "data": {
      "text/html": [
       "<div>\n",
       "<style scoped>\n",
       "    .dataframe tbody tr th:only-of-type {\n",
       "        vertical-align: middle;\n",
       "    }\n",
       "\n",
       "    .dataframe tbody tr th {\n",
       "        vertical-align: top;\n",
       "    }\n",
       "\n",
       "    .dataframe thead th {\n",
       "        text-align: right;\n",
       "    }\n",
       "</style>\n",
       "<table border=\"1\" class=\"dataframe\">\n",
       "  <thead>\n",
       "    <tr style=\"text-align: right;\">\n",
       "      <th></th>\n",
       "      <th>zipcode</th>\n",
       "      <th>room_type</th>\n",
       "      <th>accommodates</th>\n",
       "      <th>bedrooms</th>\n",
       "      <th>bathrooms</th>\n",
       "      <th>beds</th>\n",
       "      <th>minimum_nights</th>\n",
       "      <th>number_of_reviews</th>\n",
       "      <th>price</th>\n",
       "      <th>price_bin</th>\n",
       "    </tr>\n",
       "  </thead>\n",
       "  <tbody>\n",
       "    <tr>\n",
       "      <th>0</th>\n",
       "      <td>94117</td>\n",
       "      <td>Entire home/apt</td>\n",
       "      <td>3</td>\n",
       "      <td>1.0</td>\n",
       "      <td>1.0</td>\n",
       "      <td>2.0</td>\n",
       "      <td>1</td>\n",
       "      <td>240</td>\n",
       "      <td>170.0</td>\n",
       "      <td>bin 166-235</td>\n",
       "    </tr>\n",
       "    <tr>\n",
       "      <th>1</th>\n",
       "      <td>94110</td>\n",
       "      <td>Entire home/apt</td>\n",
       "      <td>5</td>\n",
       "      <td>2.0</td>\n",
       "      <td>1.0</td>\n",
       "      <td>3.0</td>\n",
       "      <td>30</td>\n",
       "      <td>111</td>\n",
       "      <td>235.0</td>\n",
       "      <td>bin 166-235</td>\n",
       "    </tr>\n",
       "    <tr>\n",
       "      <th>2</th>\n",
       "      <td>94117</td>\n",
       "      <td>Private room</td>\n",
       "      <td>2</td>\n",
       "      <td>1.0</td>\n",
       "      <td>4.0</td>\n",
       "      <td>1.0</td>\n",
       "      <td>32</td>\n",
       "      <td>19</td>\n",
       "      <td>65.0</td>\n",
       "      <td>bin 0-85</td>\n",
       "    </tr>\n",
       "    <tr>\n",
       "      <th>3</th>\n",
       "      <td>94117</td>\n",
       "      <td>Private room</td>\n",
       "      <td>2</td>\n",
       "      <td>1.0</td>\n",
       "      <td>4.0</td>\n",
       "      <td>1.0</td>\n",
       "      <td>32</td>\n",
       "      <td>8</td>\n",
       "      <td>65.0</td>\n",
       "      <td>bin 0-85</td>\n",
       "    </tr>\n",
       "    <tr>\n",
       "      <th>4</th>\n",
       "      <td>94110</td>\n",
       "      <td>Private room</td>\n",
       "      <td>3</td>\n",
       "      <td>1.0</td>\n",
       "      <td>1.0</td>\n",
       "      <td>1.0</td>\n",
       "      <td>1</td>\n",
       "      <td>736</td>\n",
       "      <td>139.0</td>\n",
       "      <td>bin 123-165</td>\n",
       "    </tr>\n",
       "  </tbody>\n",
       "</table>\n",
       "</div>"
      ],
      "text/plain": [
       "   zipcode        room_type  accommodates  bedrooms  bathrooms  beds  \\\n",
       "0    94117  Entire home/apt             3       1.0        1.0   2.0   \n",
       "1    94110  Entire home/apt             5       2.0        1.0   3.0   \n",
       "2    94117     Private room             2       1.0        4.0   1.0   \n",
       "3    94117     Private room             2       1.0        4.0   1.0   \n",
       "4    94110     Private room             3       1.0        1.0   1.0   \n",
       "\n",
       "   minimum_nights  number_of_reviews  price    price_bin  \n",
       "0               1                240  170.0  bin 166-235  \n",
       "1              30                111  235.0  bin 166-235  \n",
       "2              32                 19   65.0     bin 0-85  \n",
       "3              32                  8   65.0     bin 0-85  \n",
       "4               1                736  139.0  bin 123-165  "
      ]
     },
     "execution_count": 3,
     "metadata": {},
     "output_type": "execute_result"
    }
   ],
   "source": [
    "file = \"data_cleaning/Output/cleaned_data_5_bin.csv\"\n",
    "df = pd.read_csv(file)\n",
    "df.head()"
   ]
  },
  {
   "cell_type": "code",
   "execution_count": 4,
   "metadata": {},
   "outputs": [],
   "source": [
    "#this is your X\n",
    "data = df.drop([\"price\", \"price_bin\"], axis=1)\n",
    "feature_names = data.columns\n",
    "data.head()\n",
    "#this is your y\n",
    "target = df[\"price_bin\"].map(lambda x:str(x))\n",
    "#list(target)"
   ]
  },
  {
   "cell_type": "code",
   "execution_count": 5,
   "metadata": {},
   "outputs": [],
   "source": [
    "class MultiColumnLabelEncoder:\n",
    "    def __init__(self,columns = None):\n",
    "        self.columns = columns # array of column names to encode\n",
    "    def fit(self,X,y=None):\n",
    "        return self # not relevant here\n",
    "    def transform(self,X):\n",
    "        '''\n",
    "        Transforms columns of X specified in self.columns using\n",
    "        LabelEncoder(). If no columns specified, transforms all\n",
    "        columns in X.\n",
    "        '''\n",
    "        output = X.copy()\n",
    "        if self.columns is not None:\n",
    "            for col in self.columns:\n",
    "                output[col] = LabelEncoder().fit_transform(output[col])\n",
    "        else:\n",
    "            for colname,col in output.iteritems():\n",
    "                output[colname] = LabelEncoder().fit_transform(col)\n",
    "        return output\n",
    "    def fit_transform(self,X,y=None):\n",
    "        return self.fit(X,y).transform(X)"
   ]
  },
  {
   "cell_type": "code",
   "execution_count": 6,
   "metadata": {},
   "outputs": [
    {
     "data": {
      "text/html": [
       "<div>\n",
       "<style scoped>\n",
       "    .dataframe tbody tr th:only-of-type {\n",
       "        vertical-align: middle;\n",
       "    }\n",
       "\n",
       "    .dataframe tbody tr th {\n",
       "        vertical-align: top;\n",
       "    }\n",
       "\n",
       "    .dataframe thead th {\n",
       "        text-align: right;\n",
       "    }\n",
       "</style>\n",
       "<table border=\"1\" class=\"dataframe\">\n",
       "  <thead>\n",
       "    <tr style=\"text-align: right;\">\n",
       "      <th></th>\n",
       "      <th>zipcode</th>\n",
       "      <th>room_type</th>\n",
       "      <th>accommodates</th>\n",
       "      <th>bedrooms</th>\n",
       "      <th>bathrooms</th>\n",
       "      <th>beds</th>\n",
       "      <th>minimum_nights</th>\n",
       "      <th>number_of_reviews</th>\n",
       "    </tr>\n",
       "  </thead>\n",
       "  <tbody>\n",
       "    <tr>\n",
       "      <th>0</th>\n",
       "      <td>14</td>\n",
       "      <td>0</td>\n",
       "      <td>3</td>\n",
       "      <td>1.0</td>\n",
       "      <td>1.0</td>\n",
       "      <td>2.0</td>\n",
       "      <td>1</td>\n",
       "      <td>240</td>\n",
       "    </tr>\n",
       "    <tr>\n",
       "      <th>1</th>\n",
       "      <td>8</td>\n",
       "      <td>0</td>\n",
       "      <td>5</td>\n",
       "      <td>2.0</td>\n",
       "      <td>1.0</td>\n",
       "      <td>3.0</td>\n",
       "      <td>30</td>\n",
       "      <td>111</td>\n",
       "    </tr>\n",
       "    <tr>\n",
       "      <th>2</th>\n",
       "      <td>14</td>\n",
       "      <td>1</td>\n",
       "      <td>2</td>\n",
       "      <td>1.0</td>\n",
       "      <td>4.0</td>\n",
       "      <td>1.0</td>\n",
       "      <td>32</td>\n",
       "      <td>19</td>\n",
       "    </tr>\n",
       "    <tr>\n",
       "      <th>3</th>\n",
       "      <td>14</td>\n",
       "      <td>1</td>\n",
       "      <td>2</td>\n",
       "      <td>1.0</td>\n",
       "      <td>4.0</td>\n",
       "      <td>1.0</td>\n",
       "      <td>32</td>\n",
       "      <td>8</td>\n",
       "    </tr>\n",
       "    <tr>\n",
       "      <th>4</th>\n",
       "      <td>8</td>\n",
       "      <td>1</td>\n",
       "      <td>3</td>\n",
       "      <td>1.0</td>\n",
       "      <td>1.0</td>\n",
       "      <td>1.0</td>\n",
       "      <td>1</td>\n",
       "      <td>736</td>\n",
       "    </tr>\n",
       "  </tbody>\n",
       "</table>\n",
       "</div>"
      ],
      "text/plain": [
       "   zipcode  room_type  accommodates  bedrooms  bathrooms  beds  \\\n",
       "0       14          0             3       1.0        1.0   2.0   \n",
       "1        8          0             5       2.0        1.0   3.0   \n",
       "2       14          1             2       1.0        4.0   1.0   \n",
       "3       14          1             2       1.0        4.0   1.0   \n",
       "4        8          1             3       1.0        1.0   1.0   \n",
       "\n",
       "   minimum_nights  number_of_reviews  \n",
       "0               1                240  \n",
       "1              30                111  \n",
       "2              32                 19  \n",
       "3              32                  8  \n",
       "4               1                736  "
      ]
     },
     "execution_count": 6,
     "metadata": {},
     "output_type": "execute_result"
    }
   ],
   "source": [
    "#LabelEncode room_type and zipcode.  No need to one-hot encode\n",
    "data2=MultiColumnLabelEncoder(columns = ['room_type', 'zipcode']).fit_transform(data)\n",
    "data2.head()"
   ]
  },
  {
   "cell_type": "code",
   "execution_count": 7,
   "metadata": {},
   "outputs": [],
   "source": [
    "X_train, X_test, y_train, y_test = train_test_split(data2, target, random_state=4)"
   ]
  },
  {
   "cell_type": "code",
   "execution_count": 8,
   "metadata": {},
   "outputs": [
    {
     "data": {
      "text/plain": [
       "array([[0.46153846, 0.        , 0.2       , ..., 0.14285714, 0.02902903,\n",
       "        0.        ],\n",
       "       [0.03846154, 0.        , 0.2       , ..., 0.07142857, 0.05905906,\n",
       "        0.00974421],\n",
       "       [0.38461538, 0.        , 0.26666667, ..., 0.21428571, 0.002002  ,\n",
       "        0.00609013],\n",
       "       ...,\n",
       "       [0.23076923, 0.5       , 0.2       , ..., 0.14285714, 0.        ,\n",
       "        0.02314251],\n",
       "       [0.57692308, 0.5       , 0.        , ..., 0.07142857, 0.001001  ,\n",
       "        0.39342266],\n",
       "       [0.30769231, 0.        , 0.06666667, ..., 0.07142857, 0.02902903,\n",
       "        0.27161998]])"
      ]
     },
     "execution_count": 8,
     "metadata": {},
     "output_type": "execute_result"
    }
   ],
   "source": [
    "X_minmax = MinMaxScaler().fit(X_train)\n",
    "X_train_scaled = X_minmax.transform(X_train)\n",
    "X_test_scaled= X_minmax.transform(X_test)\n",
    "X_train_scaled"
   ]
  },
  {
   "cell_type": "code",
   "execution_count": 9,
   "metadata": {},
   "outputs": [
    {
     "data": {
      "text/plain": [
       "LogisticRegression(C=1.0, class_weight=None, dual=False, fit_intercept=True,\n",
       "                   intercept_scaling=1, l1_ratio=None, max_iter=100,\n",
       "                   multi_class='warn', n_jobs=None, penalty='l2',\n",
       "                   random_state=None, solver='warn', tol=0.0001, verbose=0,\n",
       "                   warm_start=False)"
      ]
     },
     "execution_count": 9,
     "metadata": {},
     "output_type": "execute_result"
    }
   ],
   "source": [
    "model = LogisticRegression()\n",
    "model.fit(X_train, y_train)"
   ]
  },
  {
   "cell_type": "code",
   "execution_count": 10,
   "metadata": {},
   "outputs": [
    {
     "name": "stdout",
     "output_type": "stream",
     "text": [
      "Training score: 0.44989339019189767\n",
      "Testing score: 0.45231752797016517\n"
     ]
    }
   ],
   "source": [
    "print(f'Training score: {model.score(X_train, y_train)}')\n",
    "print(f'Testing score: {model.score(X_test, y_test)}')"
   ]
  },
  {
   "cell_type": "code",
   "execution_count": 11,
   "metadata": {},
   "outputs": [],
   "source": [
    "# Create the GridSearchCV model\n",
    "param_grid = {'C': [1.0, 5.0, 10.0],\n",
    "              'penalty': [\"l1\", \"l2\"]}\n",
    "grid = GridSearchCV(model, param_grid, verbose=3)"
   ]
  },
  {
   "cell_type": "code",
   "execution_count": 12,
   "metadata": {},
   "outputs": [
    {
     "name": "stdout",
     "output_type": "stream",
     "text": [
      "Fitting 3 folds for each of 6 candidates, totalling 18 fits\n",
      "[CV] C=1.0, penalty=l1 ...............................................\n",
      "[CV] ................... C=1.0, penalty=l1, score=0.433, total=   0.1s\n",
      "[CV] C=1.0, penalty=l1 ...............................................\n",
      "[CV] ................... C=1.0, penalty=l1, score=0.453, total=   0.1s\n",
      "[CV] C=1.0, penalty=l1 ...............................................\n"
     ]
    },
    {
     "name": "stderr",
     "output_type": "stream",
     "text": [
      "[Parallel(n_jobs=1)]: Using backend SequentialBackend with 1 concurrent workers.\n",
      "[Parallel(n_jobs=1)]: Done   1 out of   1 | elapsed:    0.1s remaining:    0.0s\n",
      "[Parallel(n_jobs=1)]: Done   2 out of   2 | elapsed:    0.1s remaining:    0.0s\n"
     ]
    },
    {
     "name": "stdout",
     "output_type": "stream",
     "text": [
      "[CV] ................... C=1.0, penalty=l1, score=0.459, total=   0.1s\n",
      "[CV] C=1.0, penalty=l2 ...............................................\n",
      "[CV] ................... C=1.0, penalty=l2, score=0.435, total=   0.1s\n",
      "[CV] C=1.0, penalty=l2 ...............................................\n",
      "[CV] ................... C=1.0, penalty=l2, score=0.454, total=   0.1s\n",
      "[CV] C=1.0, penalty=l2 ...............................................\n",
      "[CV] ................... C=1.0, penalty=l2, score=0.460, total=   0.1s\n",
      "[CV] C=5.0, penalty=l1 ...............................................\n",
      "[CV] ................... C=5.0, penalty=l1, score=0.435, total=   0.1s\n",
      "[CV] C=5.0, penalty=l1 ...............................................\n",
      "[CV] ................... C=5.0, penalty=l1, score=0.452, total=   0.1s\n",
      "[CV] C=5.0, penalty=l1 ...............................................\n",
      "[CV] ................... C=5.0, penalty=l1, score=0.458, total=   0.1s\n",
      "[CV] C=5.0, penalty=l2 ...............................................\n",
      "[CV] ................... C=5.0, penalty=l2, score=0.435, total=   0.1s\n",
      "[CV] C=5.0, penalty=l2 ...............................................\n",
      "[CV] ................... C=5.0, penalty=l2, score=0.452, total=   0.1s\n",
      "[CV] C=5.0, penalty=l2 ...............................................\n",
      "[CV] ................... C=5.0, penalty=l2, score=0.459, total=   0.1s\n",
      "[CV] C=10.0, penalty=l1 ..............................................\n",
      "[CV] .................. C=10.0, penalty=l1, score=0.436, total=   0.1s\n",
      "[CV] C=10.0, penalty=l1 ..............................................\n",
      "[CV] .................. C=10.0, penalty=l1, score=0.452, total=   0.1s\n",
      "[CV] C=10.0, penalty=l1 ..............................................\n",
      "[CV] .................. C=10.0, penalty=l1, score=0.459, total=   0.1s\n",
      "[CV] C=10.0, penalty=l2 ..............................................\n",
      "[CV] .................. C=10.0, penalty=l2, score=0.435, total=   0.1s\n",
      "[CV] C=10.0, penalty=l2 ..............................................\n",
      "[CV] .................. C=10.0, penalty=l2, score=0.452, total=   0.1s\n",
      "[CV] C=10.0, penalty=l2 ..............................................\n",
      "[CV] .................. C=10.0, penalty=l2, score=0.459, total=   0.1s\n"
     ]
    },
    {
     "name": "stderr",
     "output_type": "stream",
     "text": [
      "[Parallel(n_jobs=1)]: Done  18 out of  18 | elapsed:    1.1s finished\n"
     ]
    },
    {
     "data": {
      "text/plain": [
       "GridSearchCV(cv='warn', error_score='raise-deprecating',\n",
       "             estimator=LogisticRegression(C=1.0, class_weight=None, dual=False,\n",
       "                                          fit_intercept=True,\n",
       "                                          intercept_scaling=1, l1_ratio=None,\n",
       "                                          max_iter=100, multi_class='warn',\n",
       "                                          n_jobs=None, penalty='l2',\n",
       "                                          random_state=None, solver='warn',\n",
       "                                          tol=0.0001, verbose=0,\n",
       "                                          warm_start=False),\n",
       "             iid='warn', n_jobs=None,\n",
       "             param_grid={'C': [1.0, 5.0, 10.0], 'penalty': ['l1', 'l2']},\n",
       "             pre_dispatch='2*n_jobs', refit=True, return_train_score=False,\n",
       "             scoring=None, verbose=3)"
      ]
     },
     "execution_count": 12,
     "metadata": {},
     "output_type": "execute_result"
    }
   ],
   "source": [
    "grid.fit(X_train, y_train)"
   ]
  },
  {
   "cell_type": "code",
   "execution_count": 13,
   "metadata": {},
   "outputs": [
    {
     "name": "stdout",
     "output_type": "stream",
     "text": [
      "{'C': 1.0, 'penalty': 'l2'}\n",
      "0.44971570717839376\n"
     ]
    }
   ],
   "source": [
    "print(grid.best_params_)\n",
    "print(grid.best_score_)"
   ]
  },
  {
   "cell_type": "code",
   "execution_count": null,
   "metadata": {},
   "outputs": [],
   "source": []
  }
 ],
 "metadata": {
  "kernelspec": {
   "display_name": "Python 3",
   "language": "python",
   "name": "python3"
  },
  "language_info": {
   "codemirror_mode": {
    "name": "ipython",
    "version": 3
   },
   "file_extension": ".py",
   "mimetype": "text/x-python",
   "name": "python",
   "nbconvert_exporter": "python",
   "pygments_lexer": "ipython3",
   "version": "3.7.5"
  }
 },
 "nbformat": 4,
 "nbformat_minor": 2
}
