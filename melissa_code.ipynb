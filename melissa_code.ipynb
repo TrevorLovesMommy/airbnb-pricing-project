{
 "cells": [
  {
   "cell_type": "code",
   "execution_count": 5,
   "metadata": {},
   "outputs": [],
   "source": [
    "#Import Dependencies\n",
    "import pandas as pd\n",
    "import numpy as np\n",
    "\n",
    "import seaborn as sn\n",
    "import matplotlib.pyplot as plt\n",
    "\n",
    "from sklearn.model_selection import train_test_split \n",
    "from sklearn.linear_model import LinearRegression\n",
    "from sklearn.preprocessing import LabelEncoder, MinMaxScaler \n",
    "from sklearn.preprocessing import OneHotEncoder\n",
    "from tensorflow.keras.utils import to_categorical\n",
    "import tensorflow\n",
    "from keras.utils import to_categorical\n",
    "from keras.models import Sequential\n",
    "from keras.layers import Dense\n",
    "from keras.callbacks import EarlyStopping"
   ]
  },
  {
   "cell_type": "code",
   "execution_count": 6,
   "metadata": {},
   "outputs": [
    {
     "name": "stdout",
     "output_type": "stream",
     "text": [
      "Requirement already up-to-date: sklearn in c:\\users\\melis\\anaconda3\\envs\\pythondata\\lib\\site-packages (0.0)\n",
      "Requirement already satisfied, skipping upgrade: scikit-learn in c:\\users\\melis\\anaconda3\\envs\\pythondata\\lib\\site-packages (from sklearn) (0.21.3)\n",
      "Requirement already satisfied, skipping upgrade: joblib>=0.11 in c:\\users\\melis\\anaconda3\\envs\\pythondata\\lib\\site-packages (from scikit-learn->sklearn) (0.14.0)\n",
      "Requirement already satisfied, skipping upgrade: numpy>=1.11.0 in c:\\users\\melis\\anaconda3\\envs\\pythondata\\lib\\site-packages (from scikit-learn->sklearn) (1.17.3)\n",
      "Requirement already satisfied, skipping upgrade: scipy>=0.17.0 in c:\\users\\melis\\anaconda3\\envs\\pythondata\\lib\\site-packages (from scikit-learn->sklearn) (1.3.1)\n"
     ]
    }
   ],
   "source": [
    "# Update sklearn to prevent version mismatches\n",
    "!pip install sklearn --upgrade"
   ]
  },
  {
   "cell_type": "code",
   "execution_count": 7,
   "metadata": {},
   "outputs": [
    {
     "name": "stdout",
     "output_type": "stream",
     "text": [
      "Requirement already satisfied: joblib in c:\\users\\melis\\anaconda3\\envs\\pythondata\\lib\\site-packages (0.14.0)\n"
     ]
    }
   ],
   "source": [
    "# install joblib. This will be used to save your model. \n",
    "# Restart your kernel after installing \n",
    "!pip install joblib"
   ]
  },
  {
   "cell_type": "code",
   "execution_count": 9,
   "metadata": {},
   "outputs": [
    {
     "data": {
      "text/html": [
       "<div>\n",
       "<style scoped>\n",
       "    .dataframe tbody tr th:only-of-type {\n",
       "        vertical-align: middle;\n",
       "    }\n",
       "\n",
       "    .dataframe tbody tr th {\n",
       "        vertical-align: top;\n",
       "    }\n",
       "\n",
       "    .dataframe thead th {\n",
       "        text-align: right;\n",
       "    }\n",
       "</style>\n",
       "<table border=\"1\" class=\"dataframe\">\n",
       "  <thead>\n",
       "    <tr style=\"text-align: right;\">\n",
       "      <th></th>\n",
       "      <th>zipcode</th>\n",
       "      <th>room_type</th>\n",
       "      <th>accommodates</th>\n",
       "      <th>bedrooms</th>\n",
       "      <th>bathrooms</th>\n",
       "      <th>beds</th>\n",
       "      <th>minimum_nights</th>\n",
       "      <th>number_of_reviews</th>\n",
       "      <th>price</th>\n",
       "      <th>price_bin</th>\n",
       "    </tr>\n",
       "  </thead>\n",
       "  <tbody>\n",
       "    <tr>\n",
       "      <th>0</th>\n",
       "      <td>94117</td>\n",
       "      <td>Entire home/apt</td>\n",
       "      <td>3</td>\n",
       "      <td>1.0</td>\n",
       "      <td>1.0</td>\n",
       "      <td>2.0</td>\n",
       "      <td>1</td>\n",
       "      <td>240</td>\n",
       "      <td>170.0</td>\n",
       "      <td>bin 150-200</td>\n",
       "    </tr>\n",
       "    <tr>\n",
       "      <th>1</th>\n",
       "      <td>94110</td>\n",
       "      <td>Entire home/apt</td>\n",
       "      <td>5</td>\n",
       "      <td>2.0</td>\n",
       "      <td>1.0</td>\n",
       "      <td>3.0</td>\n",
       "      <td>30</td>\n",
       "      <td>111</td>\n",
       "      <td>235.0</td>\n",
       "      <td>bin 200-250</td>\n",
       "    </tr>\n",
       "    <tr>\n",
       "      <th>2</th>\n",
       "      <td>94117</td>\n",
       "      <td>Private room</td>\n",
       "      <td>2</td>\n",
       "      <td>1.0</td>\n",
       "      <td>4.0</td>\n",
       "      <td>1.0</td>\n",
       "      <td>32</td>\n",
       "      <td>19</td>\n",
       "      <td>65.0</td>\n",
       "      <td>bin 50-100</td>\n",
       "    </tr>\n",
       "    <tr>\n",
       "      <th>3</th>\n",
       "      <td>94117</td>\n",
       "      <td>Private room</td>\n",
       "      <td>2</td>\n",
       "      <td>1.0</td>\n",
       "      <td>4.0</td>\n",
       "      <td>1.0</td>\n",
       "      <td>32</td>\n",
       "      <td>8</td>\n",
       "      <td>65.0</td>\n",
       "      <td>bin 50-100</td>\n",
       "    </tr>\n",
       "    <tr>\n",
       "      <th>4</th>\n",
       "      <td>94110</td>\n",
       "      <td>Private room</td>\n",
       "      <td>3</td>\n",
       "      <td>1.0</td>\n",
       "      <td>1.0</td>\n",
       "      <td>1.0</td>\n",
       "      <td>1</td>\n",
       "      <td>736</td>\n",
       "      <td>139.0</td>\n",
       "      <td>bin 100-150</td>\n",
       "    </tr>\n",
       "  </tbody>\n",
       "</table>\n",
       "</div>"
      ],
      "text/plain": [
       "   zipcode        room_type  accommodates  bedrooms  bathrooms  beds  \\\n",
       "0    94117  Entire home/apt             3       1.0        1.0   2.0   \n",
       "1    94110  Entire home/apt             5       2.0        1.0   3.0   \n",
       "2    94117     Private room             2       1.0        4.0   1.0   \n",
       "3    94117     Private room             2       1.0        4.0   1.0   \n",
       "4    94110     Private room             3       1.0        1.0   1.0   \n",
       "\n",
       "   minimum_nights  number_of_reviews  price    price_bin  \n",
       "0               1                240  170.0  bin 150-200  \n",
       "1              30                111  235.0  bin 200-250  \n",
       "2              32                 19   65.0   bin 50-100  \n",
       "3              32                  8   65.0   bin 50-100  \n",
       "4               1                736  139.0  bin 100-150  "
      ]
     },
     "execution_count": 9,
     "metadata": {},
     "output_type": "execute_result"
    }
   ],
   "source": [
    "file = \"data_cleaning/Output/cleaned_data_bin_50.csv\"\n",
    "df = pd.read_csv(file)\n",
    "df.head()"
   ]
  },
  {
   "cell_type": "markdown",
   "metadata": {},
   "source": [
    "## ------------------------------- Deep Learning --------------------------------------"
   ]
  },
  {
   "cell_type": "markdown",
   "metadata": {},
   "source": [
    "## Create features (X) and target (y)"
   ]
  },
  {
   "cell_type": "code",
   "execution_count": 13,
   "metadata": {},
   "outputs": [
    {
     "data": {
      "text/html": [
       "<div>\n",
       "<style scoped>\n",
       "    .dataframe tbody tr th:only-of-type {\n",
       "        vertical-align: middle;\n",
       "    }\n",
       "\n",
       "    .dataframe tbody tr th {\n",
       "        vertical-align: top;\n",
       "    }\n",
       "\n",
       "    .dataframe thead th {\n",
       "        text-align: right;\n",
       "    }\n",
       "</style>\n",
       "<table border=\"1\" class=\"dataframe\">\n",
       "  <thead>\n",
       "    <tr style=\"text-align: right;\">\n",
       "      <th></th>\n",
       "      <th>zipcode</th>\n",
       "      <th>room_type</th>\n",
       "      <th>accommodates</th>\n",
       "      <th>bedrooms</th>\n",
       "      <th>bathrooms</th>\n",
       "      <th>beds</th>\n",
       "      <th>minimum_nights</th>\n",
       "      <th>number_of_reviews</th>\n",
       "    </tr>\n",
       "  </thead>\n",
       "  <tbody>\n",
       "    <tr>\n",
       "      <th>0</th>\n",
       "      <td>94117</td>\n",
       "      <td>Entire home/apt</td>\n",
       "      <td>3</td>\n",
       "      <td>1.0</td>\n",
       "      <td>1.0</td>\n",
       "      <td>2.0</td>\n",
       "      <td>1</td>\n",
       "      <td>240</td>\n",
       "    </tr>\n",
       "    <tr>\n",
       "      <th>1</th>\n",
       "      <td>94110</td>\n",
       "      <td>Entire home/apt</td>\n",
       "      <td>5</td>\n",
       "      <td>2.0</td>\n",
       "      <td>1.0</td>\n",
       "      <td>3.0</td>\n",
       "      <td>30</td>\n",
       "      <td>111</td>\n",
       "    </tr>\n",
       "    <tr>\n",
       "      <th>2</th>\n",
       "      <td>94117</td>\n",
       "      <td>Private room</td>\n",
       "      <td>2</td>\n",
       "      <td>1.0</td>\n",
       "      <td>4.0</td>\n",
       "      <td>1.0</td>\n",
       "      <td>32</td>\n",
       "      <td>19</td>\n",
       "    </tr>\n",
       "    <tr>\n",
       "      <th>3</th>\n",
       "      <td>94117</td>\n",
       "      <td>Private room</td>\n",
       "      <td>2</td>\n",
       "      <td>1.0</td>\n",
       "      <td>4.0</td>\n",
       "      <td>1.0</td>\n",
       "      <td>32</td>\n",
       "      <td>8</td>\n",
       "    </tr>\n",
       "    <tr>\n",
       "      <th>4</th>\n",
       "      <td>94110</td>\n",
       "      <td>Private room</td>\n",
       "      <td>3</td>\n",
       "      <td>1.0</td>\n",
       "      <td>1.0</td>\n",
       "      <td>1.0</td>\n",
       "      <td>1</td>\n",
       "      <td>736</td>\n",
       "    </tr>\n",
       "  </tbody>\n",
       "</table>\n",
       "</div>"
      ],
      "text/plain": [
       "   zipcode        room_type  accommodates  bedrooms  bathrooms  beds  \\\n",
       "0    94117  Entire home/apt             3       1.0        1.0   2.0   \n",
       "1    94110  Entire home/apt             5       2.0        1.0   3.0   \n",
       "2    94117     Private room             2       1.0        4.0   1.0   \n",
       "3    94117     Private room             2       1.0        4.0   1.0   \n",
       "4    94110     Private room             3       1.0        1.0   1.0   \n",
       "\n",
       "   minimum_nights  number_of_reviews  \n",
       "0               1                240  \n",
       "1              30                111  \n",
       "2              32                 19  \n",
       "3              32                  8  \n",
       "4               1                736  "
      ]
     },
     "execution_count": 13,
     "metadata": {},
     "output_type": "execute_result"
    }
   ],
   "source": [
    "#this is your X\n",
    "data = df.drop([\"price\", \"price_bin\"], axis=1)\n",
    "feature_names = data.columns\n",
    "data.head()"
   ]
  },
  {
   "cell_type": "code",
   "execution_count": 14,
   "metadata": {},
   "outputs": [
    {
     "name": "stdout",
     "output_type": "stream",
     "text": [
      "['bin 150-200' 'bin 200-250' 'bin 50-100' 'bin 100-150' 'bin 400-450'\n",
      " 'bin 450-500' 'bin 250-300' 'bin 300-350' 'bin 0-50' 'bin 350-400' 'nan']\n"
     ]
    }
   ],
   "source": [
    "#this is your y.  Convert to strings, even though it's already an array of strings, otherwise model will choke.\n",
    "target = df[\"price_bin\"].map(lambda x:str(x))\n",
    "\n",
    "df.groupby(\"price_bin\").count().index\n",
    "print(target.unique())"
   ]
  },
  {
   "cell_type": "markdown",
   "metadata": {},
   "source": [
    "## LabelEncode features (X) - room_type and zipcode"
   ]
  },
  {
   "cell_type": "code",
   "execution_count": 15,
   "metadata": {},
   "outputs": [],
   "source": [
    "#code for multi-column label encoder from stack overlow:\n",
    "#https://stackoverflow.com/questions/24458645/label-encoding-across-multiple-columns-in-scikit-learn\n",
    "\n",
    "class MultiColumnLabelEncoder:\n",
    "    def __init__(self,columns = None):\n",
    "        self.columns = columns # array of column names to encode\n",
    "\n",
    "    def fit(self,X,y=None):\n",
    "        return self # not relevant here\n",
    "\n",
    "    def transform(self,X):\n",
    "        '''\n",
    "        Transforms columns of X specified in self.columns using\n",
    "        LabelEncoder(). If no columns specified, transforms all\n",
    "        columns in X.\n",
    "        '''\n",
    "        output = X.copy()\n",
    "        if self.columns is not None:\n",
    "            for col in self.columns:\n",
    "                output[col] = LabelEncoder().fit_transform(output[col])\n",
    "        else:\n",
    "            for colname,col in output.iteritems():\n",
    "                output[colname] = LabelEncoder().fit_transform(col)\n",
    "        return output\n",
    "\n",
    "    def fit_transform(self,X,y=None):\n",
    "        return self.fit(X,y).transform(X)\n"
   ]
  },
  {
   "cell_type": "code",
   "execution_count": 16,
   "metadata": {},
   "outputs": [
    {
     "data": {
      "text/html": [
       "<div>\n",
       "<style scoped>\n",
       "    .dataframe tbody tr th:only-of-type {\n",
       "        vertical-align: middle;\n",
       "    }\n",
       "\n",
       "    .dataframe tbody tr th {\n",
       "        vertical-align: top;\n",
       "    }\n",
       "\n",
       "    .dataframe thead th {\n",
       "        text-align: right;\n",
       "    }\n",
       "</style>\n",
       "<table border=\"1\" class=\"dataframe\">\n",
       "  <thead>\n",
       "    <tr style=\"text-align: right;\">\n",
       "      <th></th>\n",
       "      <th>zipcode</th>\n",
       "      <th>room_type</th>\n",
       "      <th>accommodates</th>\n",
       "      <th>bedrooms</th>\n",
       "      <th>bathrooms</th>\n",
       "      <th>beds</th>\n",
       "      <th>minimum_nights</th>\n",
       "      <th>number_of_reviews</th>\n",
       "    </tr>\n",
       "  </thead>\n",
       "  <tbody>\n",
       "    <tr>\n",
       "      <th>0</th>\n",
       "      <td>14</td>\n",
       "      <td>0</td>\n",
       "      <td>3</td>\n",
       "      <td>1.0</td>\n",
       "      <td>1.0</td>\n",
       "      <td>2.0</td>\n",
       "      <td>1</td>\n",
       "      <td>240</td>\n",
       "    </tr>\n",
       "    <tr>\n",
       "      <th>1</th>\n",
       "      <td>8</td>\n",
       "      <td>0</td>\n",
       "      <td>5</td>\n",
       "      <td>2.0</td>\n",
       "      <td>1.0</td>\n",
       "      <td>3.0</td>\n",
       "      <td>30</td>\n",
       "      <td>111</td>\n",
       "    </tr>\n",
       "    <tr>\n",
       "      <th>2</th>\n",
       "      <td>14</td>\n",
       "      <td>1</td>\n",
       "      <td>2</td>\n",
       "      <td>1.0</td>\n",
       "      <td>4.0</td>\n",
       "      <td>1.0</td>\n",
       "      <td>32</td>\n",
       "      <td>19</td>\n",
       "    </tr>\n",
       "    <tr>\n",
       "      <th>3</th>\n",
       "      <td>14</td>\n",
       "      <td>1</td>\n",
       "      <td>2</td>\n",
       "      <td>1.0</td>\n",
       "      <td>4.0</td>\n",
       "      <td>1.0</td>\n",
       "      <td>32</td>\n",
       "      <td>8</td>\n",
       "    </tr>\n",
       "    <tr>\n",
       "      <th>4</th>\n",
       "      <td>8</td>\n",
       "      <td>1</td>\n",
       "      <td>3</td>\n",
       "      <td>1.0</td>\n",
       "      <td>1.0</td>\n",
       "      <td>1.0</td>\n",
       "      <td>1</td>\n",
       "      <td>736</td>\n",
       "    </tr>\n",
       "  </tbody>\n",
       "</table>\n",
       "</div>"
      ],
      "text/plain": [
       "   zipcode  room_type  accommodates  bedrooms  bathrooms  beds  \\\n",
       "0       14          0             3       1.0        1.0   2.0   \n",
       "1        8          0             5       2.0        1.0   3.0   \n",
       "2       14          1             2       1.0        4.0   1.0   \n",
       "3       14          1             2       1.0        4.0   1.0   \n",
       "4        8          1             3       1.0        1.0   1.0   \n",
       "\n",
       "   minimum_nights  number_of_reviews  \n",
       "0               1                240  \n",
       "1              30                111  \n",
       "2              32                 19  \n",
       "3              32                  8  \n",
       "4               1                736  "
      ]
     },
     "execution_count": 16,
     "metadata": {},
     "output_type": "execute_result"
    }
   ],
   "source": [
    "#LabelEncode room_type and zipcode.  No need to one-hot encode\n",
    "\n",
    "data2=MultiColumnLabelEncoder(columns = ['room_type', 'zipcode']).fit_transform(data)\n",
    "data2.head()"
   ]
  },
  {
   "cell_type": "code",
   "execution_count": 17,
   "metadata": {},
   "outputs": [
    {
     "data": {
      "text/html": [
       "<div>\n",
       "<style scoped>\n",
       "    .dataframe tbody tr th:only-of-type {\n",
       "        vertical-align: middle;\n",
       "    }\n",
       "\n",
       "    .dataframe tbody tr th {\n",
       "        vertical-align: top;\n",
       "    }\n",
       "\n",
       "    .dataframe thead th {\n",
       "        text-align: right;\n",
       "    }\n",
       "</style>\n",
       "<table border=\"1\" class=\"dataframe\">\n",
       "  <thead>\n",
       "    <tr style=\"text-align: right;\">\n",
       "      <th></th>\n",
       "      <th></th>\n",
       "      <th>accommodates</th>\n",
       "      <th>bedrooms</th>\n",
       "      <th>bathrooms</th>\n",
       "      <th>beds</th>\n",
       "      <th>minimum_nights</th>\n",
       "      <th>number_of_reviews</th>\n",
       "    </tr>\n",
       "    <tr>\n",
       "      <th>room_type</th>\n",
       "      <th>zipcode</th>\n",
       "      <th></th>\n",
       "      <th></th>\n",
       "      <th></th>\n",
       "      <th></th>\n",
       "      <th></th>\n",
       "      <th></th>\n",
       "    </tr>\n",
       "  </thead>\n",
       "  <tbody>\n",
       "    <tr>\n",
       "      <th rowspan=\"5\" valign=\"top\">0</th>\n",
       "      <th>0</th>\n",
       "      <td>15</td>\n",
       "      <td>15</td>\n",
       "      <td>15</td>\n",
       "      <td>15</td>\n",
       "      <td>15</td>\n",
       "      <td>15</td>\n",
       "    </tr>\n",
       "    <tr>\n",
       "      <th>1</th>\n",
       "      <td>224</td>\n",
       "      <td>224</td>\n",
       "      <td>224</td>\n",
       "      <td>224</td>\n",
       "      <td>224</td>\n",
       "      <td>224</td>\n",
       "    </tr>\n",
       "    <tr>\n",
       "      <th>2</th>\n",
       "      <td>288</td>\n",
       "      <td>288</td>\n",
       "      <td>288</td>\n",
       "      <td>288</td>\n",
       "      <td>288</td>\n",
       "      <td>288</td>\n",
       "    </tr>\n",
       "    <tr>\n",
       "      <th>3</th>\n",
       "      <td>5</td>\n",
       "      <td>5</td>\n",
       "      <td>5</td>\n",
       "      <td>5</td>\n",
       "      <td>5</td>\n",
       "      <td>5</td>\n",
       "    </tr>\n",
       "    <tr>\n",
       "      <th>4</th>\n",
       "      <td>131</td>\n",
       "      <td>131</td>\n",
       "      <td>131</td>\n",
       "      <td>131</td>\n",
       "      <td>131</td>\n",
       "      <td>131</td>\n",
       "    </tr>\n",
       "    <tr>\n",
       "      <th>...</th>\n",
       "      <th>...</th>\n",
       "      <td>...</td>\n",
       "      <td>...</td>\n",
       "      <td>...</td>\n",
       "      <td>...</td>\n",
       "      <td>...</td>\n",
       "      <td>...</td>\n",
       "    </tr>\n",
       "    <tr>\n",
       "      <th rowspan=\"5\" valign=\"top\">2</th>\n",
       "      <th>17</th>\n",
       "      <td>5</td>\n",
       "      <td>5</td>\n",
       "      <td>5</td>\n",
       "      <td>5</td>\n",
       "      <td>5</td>\n",
       "      <td>5</td>\n",
       "    </tr>\n",
       "    <tr>\n",
       "      <th>19</th>\n",
       "      <td>2</td>\n",
       "      <td>2</td>\n",
       "      <td>2</td>\n",
       "      <td>2</td>\n",
       "      <td>2</td>\n",
       "      <td>2</td>\n",
       "    </tr>\n",
       "    <tr>\n",
       "      <th>23</th>\n",
       "      <td>1</td>\n",
       "      <td>1</td>\n",
       "      <td>1</td>\n",
       "      <td>1</td>\n",
       "      <td>1</td>\n",
       "      <td>1</td>\n",
       "    </tr>\n",
       "    <tr>\n",
       "      <th>24</th>\n",
       "      <td>38</td>\n",
       "      <td>38</td>\n",
       "      <td>38</td>\n",
       "      <td>38</td>\n",
       "      <td>38</td>\n",
       "      <td>38</td>\n",
       "    </tr>\n",
       "    <tr>\n",
       "      <th>26</th>\n",
       "      <td>4</td>\n",
       "      <td>4</td>\n",
       "      <td>4</td>\n",
       "      <td>4</td>\n",
       "      <td>4</td>\n",
       "      <td>4</td>\n",
       "    </tr>\n",
       "  </tbody>\n",
       "</table>\n",
       "<p>73 rows × 6 columns</p>\n",
       "</div>"
      ],
      "text/plain": [
       "                   accommodates  bedrooms  bathrooms  beds  minimum_nights  \\\n",
       "room_type zipcode                                                            \n",
       "0         0                  15        15         15    15              15   \n",
       "          1                 224       224        224   224             224   \n",
       "          2                 288       288        288   288             288   \n",
       "          3                   5         5          5     5               5   \n",
       "          4                 131       131        131   131             131   \n",
       "...                         ...       ...        ...   ...             ...   \n",
       "2         17                  5         5          5     5               5   \n",
       "          19                  2         2          2     2               2   \n",
       "          23                  1         1          1     1               1   \n",
       "          24                 38        38         38    38              38   \n",
       "          26                  4         4          4     4               4   \n",
       "\n",
       "                   number_of_reviews  \n",
       "room_type zipcode                     \n",
       "0         0                       15  \n",
       "          1                      224  \n",
       "          2                      288  \n",
       "          3                        5  \n",
       "          4                      131  \n",
       "...                              ...  \n",
       "2         17                       5  \n",
       "          19                       2  \n",
       "          23                       1  \n",
       "          24                      38  \n",
       "          26                       4  \n",
       "\n",
       "[73 rows x 6 columns]"
      ]
     },
     "execution_count": 17,
     "metadata": {},
     "output_type": "execute_result"
    }
   ],
   "source": [
    "data2.groupby(['room_type', 'zipcode' ]).count()"
   ]
  },
  {
   "cell_type": "markdown",
   "metadata": {},
   "source": [
    "##  Create Train Test Split\n"
   ]
  },
  {
   "cell_type": "code",
   "execution_count": 18,
   "metadata": {
    "scrolled": true
   },
   "outputs": [],
   "source": [
    "X_train, X_test, y_train, y_test = train_test_split(data2, target, random_state=4, test_size = .2)"
   ]
  },
  {
   "cell_type": "markdown",
   "metadata": {},
   "source": [
    "## Encode y labels (label encoder and one hot encode)"
   ]
  },
  {
   "cell_type": "code",
   "execution_count": 19,
   "metadata": {},
   "outputs": [
    {
     "data": {
      "text/plain": [
       "11"
      ]
     },
     "execution_count": 19,
     "metadata": {},
     "output_type": "execute_result"
    }
   ],
   "source": [
    "#choose label encoder or one hot encode\n",
    "#bins are already labels\n",
    "2\n",
    "#try each by themselves\n",
    "\n",
    "label_encoder = LabelEncoder()\n",
    "label_encoder.fit(y_train)\n",
    "encoded_y_train = label_encoder.transform(y_train)\n",
    "encoded_y_test = label_encoder.transform(y_test)\n",
    "y_train_categorical = to_categorical(encoded_y_train)\n",
    "y_test_categorical = to_categorical(encoded_y_test)\n",
    "\n",
    "len(y_test_categorical[0])\n",
    "y_test_categorical[0]\n",
    "len(y_train_categorical[0])"
   ]
  },
  {
   "cell_type": "markdown",
   "metadata": {},
   "source": [
    "## Scale the features/data (X)"
   ]
  },
  {
   "cell_type": "code",
   "execution_count": 20,
   "metadata": {},
   "outputs": [
    {
     "data": {
      "text/plain": [
       "array([1.92307692e-01, 5.00000000e-01, 0.00000000e+00, 7.14285714e-02,\n",
       "       1.07142857e-01, 7.14285714e-02, 3.00000003e-08, 5.72472594e-02])"
      ]
     },
     "execution_count": 20,
     "metadata": {},
     "output_type": "execute_result"
    }
   ],
   "source": [
    "X_minmax = MinMaxScaler().fit(X_train)\n",
    "\n",
    "X_train_scaled = X_minmax.transform(X_train)\n",
    "X_test_scaled= X_minmax.transform(X_test)\n",
    "\n",
    "X_train_scaled[0]"
   ]
  },
  {
   "cell_type": "markdown",
   "metadata": {},
   "source": [
    "## Train the Model (Deep Learning)"
   ]
  },
  {
   "cell_type": "code",
   "execution_count": 21,
   "metadata": {},
   "outputs": [
    {
     "name": "stdout",
     "output_type": "stream",
     "text": [
      "number of features columns in X: 8\n",
      "number of target columns in y: 11\n"
     ]
    }
   ],
   "source": [
    "#get number of feature columns.  This will be the input dimension for the model.\n",
    "print(f\"number of features columns in X: {X_train_scaled.shape[1]}\")\n",
    "\n",
    "#get the number of target columns for the output layer.  This should be 10 as we have 10 price bins\n",
    "print(f\"number of target columns in y: {y_train_categorical.shape[1]}\")\n"
   ]
  },
  {
   "cell_type": "code",
   "execution_count": 22,
   "metadata": {},
   "outputs": [],
   "source": [
    "#create the deep learning model\n",
    "from tensorflow.keras.models import Sequential\n",
    "from tensorflow.keras.layers import Dense\n",
    "\n",
    "# Create an empty sequential model\n",
    "model = Sequential()\n",
    "\n",
    "# Add the first layer where the input dimensions are the 8 columns of the training data, X_train_scaled.shape[1]\n",
    "#dense is nodes, \n",
    "\n",
    "#input layer\n",
    "model.add(Dense(200, activation='relu', input_dim=X_train_scaled.shape[1]))\n",
    "\n",
    "# Add a second hidden layer\n",
    "model.add(Dense(200, activation='relu'))\n",
    "\n",
    "# Add a third hidden layer\n",
    "model.add(Dense(200, activation='relu'))\n",
    "\n",
    "# Add output layer.  There are 10 columns in y_train_categorical.shape[1], same as the number of price bins\n",
    "model.add(Dense(y_train_categorical.shape[1], activation=\"softmax\"))"
   ]
  },
  {
   "cell_type": "code",
   "execution_count": 23,
   "metadata": {},
   "outputs": [],
   "source": [
    "# Compile the model using categorical_crossentropy for the loss function, the adam optimizer,\n",
    "# and add accuracy to the training metrics\n",
    "model.compile(loss=\"categorical_crossentropy\",\n",
    "              optimizer=\"adam\", metrics=['accuracy'])"
   ]
  },
  {
   "cell_type": "code",
   "execution_count": 24,
   "metadata": {},
   "outputs": [
    {
     "name": "stdout",
     "output_type": "stream",
     "text": [
      "Model: \"sequential\"\n",
      "_________________________________________________________________\n",
      "Layer (type)                 Output Shape              Param #   \n",
      "=================================================================\n",
      "dense (Dense)                (None, 200)               1800      \n",
      "_________________________________________________________________\n",
      "dense_1 (Dense)              (None, 200)               40200     \n",
      "_________________________________________________________________\n",
      "dense_2 (Dense)              (None, 200)               40200     \n",
      "_________________________________________________________________\n",
      "dense_3 (Dense)              (None, 11)                2211      \n",
      "=================================================================\n",
      "Total params: 84,411\n",
      "Trainable params: 84,411\n",
      "Non-trainable params: 0\n",
      "_________________________________________________________________\n"
     ]
    }
   ],
   "source": [
    "model.summary()"
   ]
  },
  {
   "cell_type": "code",
   "execution_count": 25,
   "metadata": {},
   "outputs": [
    {
     "name": "stdout",
     "output_type": "stream",
     "text": [
      "Train on 6004 samples\n",
      "Epoch 1/100\n",
      "6004/6004 - 2s - loss: 1.7358 - accuracy: 0.3483\n",
      "Epoch 2/100\n",
      "6004/6004 - 1s - loss: 1.5635 - accuracy: 0.3937\n",
      "Epoch 3/100\n",
      "6004/6004 - 0s - loss: 1.5417 - accuracy: 0.3984\n",
      "Epoch 4/100\n",
      "6004/6004 - 0s - loss: 1.5250 - accuracy: 0.4022\n",
      "Epoch 5/100\n",
      "6004/6004 - 1s - loss: 1.5177 - accuracy: 0.4056\n",
      "Epoch 6/100\n",
      "6004/6004 - 0s - loss: 1.5109 - accuracy: 0.4064\n",
      "Epoch 7/100\n",
      "6004/6004 - 1s - loss: 1.5024 - accuracy: 0.4076\n",
      "Epoch 8/100\n",
      "6004/6004 - 0s - loss: 1.4992 - accuracy: 0.4099\n",
      "Epoch 9/100\n",
      "6004/6004 - 0s - loss: 1.4935 - accuracy: 0.4151\n",
      "Epoch 10/100\n",
      "6004/6004 - 1s - loss: 1.4866 - accuracy: 0.4107\n",
      "Epoch 11/100\n",
      "6004/6004 - 1s - loss: 1.4884 - accuracy: 0.4181\n",
      "Epoch 12/100\n",
      "6004/6004 - 0s - loss: 1.4782 - accuracy: 0.4207\n",
      "Epoch 13/100\n",
      "6004/6004 - 1s - loss: 1.4718 - accuracy: 0.4216\n",
      "Epoch 14/100\n",
      "6004/6004 - 0s - loss: 1.4695 - accuracy: 0.4224\n",
      "Epoch 15/100\n",
      "6004/6004 - 0s - loss: 1.4632 - accuracy: 0.4216\n",
      "Epoch 16/100\n",
      "6004/6004 - 0s - loss: 1.4619 - accuracy: 0.4279\n",
      "Epoch 17/100\n",
      "6004/6004 - 0s - loss: 1.4591 - accuracy: 0.4280\n",
      "Epoch 18/100\n",
      "6004/6004 - 1s - loss: 1.4593 - accuracy: 0.4269\n",
      "Epoch 19/100\n",
      "6004/6004 - 0s - loss: 1.4551 - accuracy: 0.4277\n",
      "Epoch 20/100\n",
      "6004/6004 - 0s - loss: 1.4460 - accuracy: 0.4300\n",
      "Epoch 21/100\n",
      "6004/6004 - 0s - loss: 1.4442 - accuracy: 0.4275\n",
      "Epoch 22/100\n",
      "6004/6004 - 1s - loss: 1.4450 - accuracy: 0.4319\n",
      "Epoch 23/100\n",
      "6004/6004 - 1s - loss: 1.4353 - accuracy: 0.4357\n",
      "Epoch 24/100\n",
      "6004/6004 - 1s - loss: 1.4349 - accuracy: 0.4357\n",
      "Epoch 25/100\n",
      "6004/6004 - 1s - loss: 1.4286 - accuracy: 0.4322\n",
      "Epoch 26/100\n",
      "6004/6004 - 1s - loss: 1.4297 - accuracy: 0.4359\n",
      "Epoch 27/100\n",
      "6004/6004 - 0s - loss: 1.4239 - accuracy: 0.4437\n",
      "Epoch 28/100\n",
      "6004/6004 - 0s - loss: 1.4216 - accuracy: 0.4392\n",
      "Epoch 29/100\n",
      "6004/6004 - 1s - loss: 1.4202 - accuracy: 0.4389\n",
      "Epoch 30/100\n",
      "6004/6004 - 0s - loss: 1.4128 - accuracy: 0.4422\n",
      "Epoch 31/100\n",
      "6004/6004 - 1s - loss: 1.4087 - accuracy: 0.4455\n",
      "Epoch 32/100\n",
      "6004/6004 - 0s - loss: 1.4098 - accuracy: 0.4492\n",
      "Epoch 33/100\n",
      "6004/6004 - 0s - loss: 1.4024 - accuracy: 0.4444\n",
      "Epoch 34/100\n",
      "6004/6004 - 0s - loss: 1.3988 - accuracy: 0.4477\n",
      "Epoch 35/100\n",
      "6004/6004 - 1s - loss: 1.3961 - accuracy: 0.4492\n",
      "Epoch 36/100\n",
      "6004/6004 - 0s - loss: 1.3943 - accuracy: 0.4499\n",
      "Epoch 37/100\n",
      "6004/6004 - 1s - loss: 1.3912 - accuracy: 0.4512\n",
      "Epoch 38/100\n",
      "6004/6004 - 0s - loss: 1.3868 - accuracy: 0.4534\n",
      "Epoch 39/100\n",
      "6004/6004 - 0s - loss: 1.3877 - accuracy: 0.4552\n",
      "Epoch 40/100\n",
      "6004/6004 - 0s - loss: 1.3802 - accuracy: 0.4574\n",
      "Epoch 41/100\n",
      "6004/6004 - 0s - loss: 1.3800 - accuracy: 0.4609\n",
      "Epoch 42/100\n",
      "6004/6004 - 0s - loss: 1.3756 - accuracy: 0.4525\n",
      "Epoch 43/100\n",
      "6004/6004 - 0s - loss: 1.3718 - accuracy: 0.4597\n",
      "Epoch 44/100\n",
      "6004/6004 - 1s - loss: 1.3724 - accuracy: 0.4589\n",
      "Epoch 45/100\n",
      "6004/6004 - 1s - loss: 1.3627 - accuracy: 0.4644\n",
      "Epoch 46/100\n",
      "6004/6004 - 0s - loss: 1.3622 - accuracy: 0.4665\n",
      "Epoch 47/100\n",
      "6004/6004 - 1s - loss: 1.3570 - accuracy: 0.4617\n",
      "Epoch 48/100\n",
      "6004/6004 - 1s - loss: 1.3563 - accuracy: 0.4644\n",
      "Epoch 49/100\n",
      "6004/6004 - 1s - loss: 1.3576 - accuracy: 0.4634\n",
      "Epoch 50/100\n",
      "6004/6004 - 0s - loss: 1.3512 - accuracy: 0.4632\n",
      "Epoch 51/100\n",
      "6004/6004 - 1s - loss: 1.3476 - accuracy: 0.4712\n",
      "Epoch 52/100\n",
      "6004/6004 - 0s - loss: 1.3491 - accuracy: 0.4675\n",
      "Epoch 53/100\n",
      "6004/6004 - 0s - loss: 1.3405 - accuracy: 0.4734\n",
      "Epoch 54/100\n",
      "6004/6004 - 1s - loss: 1.3377 - accuracy: 0.4655\n",
      "Epoch 55/100\n",
      "6004/6004 - 1s - loss: 1.3288 - accuracy: 0.4757\n",
      "Epoch 56/100\n",
      "6004/6004 - 0s - loss: 1.3286 - accuracy: 0.4749\n",
      "Epoch 57/100\n",
      "6004/6004 - 1s - loss: 1.3267 - accuracy: 0.4795\n",
      "Epoch 58/100\n",
      "6004/6004 - 0s - loss: 1.3224 - accuracy: 0.4763\n",
      "Epoch 59/100\n",
      "6004/6004 - 0s - loss: 1.3201 - accuracy: 0.4820\n",
      "Epoch 60/100\n",
      "6004/6004 - 0s - loss: 1.3195 - accuracy: 0.4813\n",
      "Epoch 61/100\n",
      "6004/6004 - 1s - loss: 1.3124 - accuracy: 0.4853\n",
      "Epoch 62/100\n",
      "6004/6004 - 0s - loss: 1.3107 - accuracy: 0.4818\n",
      "Epoch 63/100\n",
      "6004/6004 - 0s - loss: 1.3071 - accuracy: 0.4838\n",
      "Epoch 64/100\n",
      "6004/6004 - 0s - loss: 1.3094 - accuracy: 0.4848\n",
      "Epoch 65/100\n",
      "6004/6004 - 1s - loss: 1.3030 - accuracy: 0.4837\n",
      "Epoch 66/100\n",
      "6004/6004 - 0s - loss: 1.3037 - accuracy: 0.4843\n",
      "Epoch 67/100\n",
      "6004/6004 - 1s - loss: 1.2979 - accuracy: 0.4845\n",
      "Epoch 68/100\n",
      "6004/6004 - 0s - loss: 1.2882 - accuracy: 0.4937\n",
      "Epoch 69/100\n",
      "6004/6004 - 1s - loss: 1.2871 - accuracy: 0.4882\n",
      "Epoch 70/100\n",
      "6004/6004 - 0s - loss: 1.2880 - accuracy: 0.4890\n",
      "Epoch 71/100\n",
      "6004/6004 - 0s - loss: 1.2828 - accuracy: 0.4937\n",
      "Epoch 72/100\n",
      "6004/6004 - 0s - loss: 1.2803 - accuracy: 0.4932\n",
      "Epoch 73/100\n",
      "6004/6004 - 0s - loss: 1.2735 - accuracy: 0.5000\n",
      "Epoch 74/100\n",
      "6004/6004 - 0s - loss: 1.2751 - accuracy: 0.4992\n",
      "Epoch 75/100\n",
      "6004/6004 - 0s - loss: 1.2683 - accuracy: 0.4982\n",
      "Epoch 76/100\n",
      "6004/6004 - 0s - loss: 1.2640 - accuracy: 0.5063\n",
      "Epoch 77/100\n",
      "6004/6004 - 0s - loss: 1.2637 - accuracy: 0.4973\n",
      "Epoch 78/100\n",
      "6004/6004 - 0s - loss: 1.2621 - accuracy: 0.4975\n",
      "Epoch 79/100\n",
      "6004/6004 - 1s - loss: 1.2555 - accuracy: 0.5025\n",
      "Epoch 80/100\n",
      "6004/6004 - 1s - loss: 1.2556 - accuracy: 0.5023\n",
      "Epoch 81/100\n",
      "6004/6004 - 1s - loss: 1.2507 - accuracy: 0.5087\n",
      "Epoch 82/100\n",
      "6004/6004 - 1s - loss: 1.2476 - accuracy: 0.5070\n",
      "Epoch 83/100\n",
      "6004/6004 - 1s - loss: 1.2434 - accuracy: 0.5108\n",
      "Epoch 84/100\n",
      "6004/6004 - 1s - loss: 1.2417 - accuracy: 0.5115\n",
      "Epoch 85/100\n",
      "6004/6004 - 0s - loss: 1.2389 - accuracy: 0.5067\n",
      "Epoch 86/100\n",
      "6004/6004 - 1s - loss: 1.2354 - accuracy: 0.5065\n",
      "Epoch 87/100\n",
      "6004/6004 - 0s - loss: 1.2344 - accuracy: 0.5105\n",
      "Epoch 88/100\n",
      "6004/6004 - 0s - loss: 1.2235 - accuracy: 0.5223\n",
      "Epoch 89/100\n",
      "6004/6004 - 1s - loss: 1.2311 - accuracy: 0.5095\n",
      "Epoch 90/100\n",
      "6004/6004 - 1s - loss: 1.2254 - accuracy: 0.5172\n",
      "Epoch 91/100\n",
      "6004/6004 - 0s - loss: 1.2172 - accuracy: 0.5192\n",
      "Epoch 92/100\n",
      "6004/6004 - 0s - loss: 1.2147 - accuracy: 0.5218\n",
      "Epoch 93/100\n",
      "6004/6004 - 0s - loss: 1.2118 - accuracy: 0.5217\n",
      "Epoch 94/100\n",
      "6004/6004 - 1s - loss: 1.2137 - accuracy: 0.5180\n",
      "Epoch 95/100\n",
      "6004/6004 - 0s - loss: 1.2066 - accuracy: 0.5198\n",
      "Epoch 96/100\n",
      "6004/6004 - 1s - loss: 1.2033 - accuracy: 0.5238\n",
      "Epoch 97/100\n",
      "6004/6004 - 0s - loss: 1.1997 - accuracy: 0.5286\n",
      "Epoch 98/100\n",
      "6004/6004 - 0s - loss: 1.1970 - accuracy: 0.5255\n",
      "Epoch 99/100\n",
      "6004/6004 - 0s - loss: 1.1930 - accuracy: 0.5245\n",
      "Epoch 100/100\n",
      "6004/6004 - 0s - loss: 1.1902 - accuracy: 0.5290\n"
     ]
    },
    {
     "data": {
      "text/plain": [
       "<tensorflow.python.keras.callbacks.History at 0x1d87117d188>"
      ]
     },
     "execution_count": 25,
     "metadata": {},
     "output_type": "execute_result"
    }
   ],
   "source": [
    " # Use the training data to fit (train) the model\n",
    "model.fit(\n",
    "    X_train_scaled,\n",
    "    y_train_categorical,\n",
    "    epochs=100,\n",
    "    shuffle=True,\n",
    "    verbose=2\n",
    ")"
   ]
  },
  {
   "cell_type": "markdown",
   "metadata": {},
   "source": [
    "## Evaluate the model"
   ]
  },
  {
   "cell_type": "code",
   "execution_count": null,
   "metadata": {},
   "outputs": [],
   "source": [
    "#double check the array size of all train and test splits to make rows and columns line up\n",
    "print(f\"X_train_scaled.shape {X_train_scaled.shape}\")\n",
    "print(f\"X_test_scaled.shape {X_test_scaled.shape}\")\n",
    "print(f\"y_train_categorical.shape {y_train_categorical.shape}\")\n",
    "print(f\"y_test_categorical.shape {y_test_categorical.shape}\")"
   ]
  },
  {
   "cell_type": "code",
   "execution_count": null,
   "metadata": {},
   "outputs": [],
   "source": [
    "model_loss, model_accuracy = model.evaluate(\n",
    "    X_test_scaled, y_test_categorical, verbose=2)\n",
    "print(f\"Normal Neural Network - Loss: {model_loss}, Accuracy: {model_accuracy}\")"
   ]
  },
  {
   "cell_type": "markdown",
   "metadata": {},
   "source": [
    "## Score the model"
   ]
  },
  {
   "cell_type": "code",
   "execution_count": null,
   "metadata": {},
   "outputs": [],
   "source": [
    "print(f\"Deep Learning Training Data Score r2: {model.score(X_train_scaled, y_train_categorical)}\")\n",
    "print(f\"Deep Learning, Neural network Testing Data Score r2: {model.score(X_test_scaled, y_test_categorical)}\")\n"
   ]
  },
  {
   "cell_type": "markdown",
   "metadata": {},
   "source": [
    "## Hyperparameter Tuning\n",
    "\n",
    "Use GridSearchCV to tune the model's parameters"
   ]
  },
  {
   "cell_type": "code",
   "execution_count": null,
   "metadata": {},
   "outputs": [],
   "source": [
    "# Create the GridSearchCV model\n",
    "from sklearn.model_selection import GridSearchCV\n",
    "param_grid = {'n_estimators': [250, 300, 350],\n",
    "              'max_depth': [125, 150, 175]}\n",
    "grid = GridSearchCV(model, param_grid, verbose=3)"
   ]
  },
  {
   "cell_type": "code",
   "execution_count": null,
   "metadata": {},
   "outputs": [],
   "source": [
    "# Train the model with GridSearch\n",
    "grid.fit(X_train_scaled, y_train_categorical)"
   ]
  },
  {
   "cell_type": "code",
   "execution_count": null,
   "metadata": {},
   "outputs": [],
   "source": [
    "print(grid.best_params_)\n",
    "print(grid.best_score_)"
   ]
  },
  {
   "cell_type": "code",
   "execution_count": null,
   "metadata": {},
   "outputs": [],
   "source": [
    "# Training score:\n",
    "grid.score(X_train_scaled, y_train_categorical)"
   ]
  },
  {
   "cell_type": "code",
   "execution_count": null,
   "metadata": {},
   "outputs": [],
   "source": [
    "# Testing score:\n",
    "grid.score(X_test_scaled, y_test_categorical)"
   ]
  },
  {
   "cell_type": "code",
   "execution_count": null,
   "metadata": {},
   "outputs": [],
   "source": [
    "# Make prediction and save to variable for report.\n",
    "predictions = grid.predict(X_test_scaled)"
   ]
  },
  {
   "cell_type": "code",
   "execution_count": null,
   "metadata": {},
   "outputs": [],
   "source": [
    "# Print Classification Report\n",
    "from sklearn.metrics import classification_report\n",
    "print(classification_report(y_test_categorical, predictions))"
   ]
  },
  {
   "cell_type": "code",
   "execution_count": null,
   "metadata": {},
   "outputs": [],
   "source": [
    "#????????????????????  WHAT IS THIS?\n",
    "%matplotlib notebook\n",
    "from yellowbrick.classifier import ClassificationReport\n",
    "viz = ClassificationReport(RandomForestClassifier())\n",
    "viz.fit(X_train_scaled, y_train)\n",
    "viz.score(X_test_scaled, y_test)\n",
    "viz.finalize()\n",
    "viz.show(outpath=\"classificationreport.png\")"
   ]
  },
  {
   "cell_type": "markdown",
   "metadata": {},
   "source": [
    "## Save the Model"
   ]
  },
  {
   "cell_type": "code",
   "execution_count": null,
   "metadata": {},
   "outputs": [],
   "source": [
    "# save your model by updating \"your_name\" with your name\n",
    "# and \"your_model\" with your model variable\n",
    "# be sure to turn this in to BCS\n",
    "# if joblib fails to import, try running the command to install in terminal/git-bash\n",
    "import joblib\n",
    "filename = 'models.sav'\n",
    "joblib.dump(model, filename)"
   ]
  },
  {
   "cell_type": "markdown",
   "metadata": {},
   "source": [
    "### Correlation Matrix"
   ]
  },
  {
   "cell_type": "code",
   "execution_count": null,
   "metadata": {
    "scrolled": true
   },
   "outputs": [],
   "source": [
    "corrMatrix = df.corr()\n",
    "print (corrMatrix)\n",
    "sn.heatmap(corrMatrix, annot=True)\n",
    "plt.tight_layout()\n",
    "plt.autoscale()\n",
    "\n",
    "plt.savefig('correlation_matrix.png', bbox_inches='tight', pad_inches=0.0)\n",
    "plt.show()"
   ]
  },
  {
   "cell_type": "code",
   "execution_count": null,
   "metadata": {},
   "outputs": [],
   "source": []
  },
  {
   "cell_type": "code",
   "execution_count": null,
   "metadata": {},
   "outputs": [],
   "source": [
    "\n"
   ]
  },
  {
   "cell_type": "code",
   "execution_count": null,
   "metadata": {},
   "outputs": [],
   "source": [
    "\n"
   ]
  },
  {
   "cell_type": "code",
   "execution_count": null,
   "metadata": {},
   "outputs": [],
   "source": []
  },
  {
   "cell_type": "code",
   "execution_count": null,
   "metadata": {},
   "outputs": [],
   "source": []
  },
  {
   "cell_type": "code",
   "execution_count": null,
   "metadata": {},
   "outputs": [],
   "source": []
  },
  {
   "cell_type": "code",
   "execution_count": null,
   "metadata": {},
   "outputs": [],
   "source": []
  },
  {
   "cell_type": "code",
   "execution_count": null,
   "metadata": {},
   "outputs": [],
   "source": []
  },
  {
   "cell_type": "code",
   "execution_count": null,
   "metadata": {},
   "outputs": [],
   "source": []
  },
  {
   "cell_type": "code",
   "execution_count": null,
   "metadata": {},
   "outputs": [],
   "source": []
  }
 ],
 "metadata": {
  "kernelspec": {
   "display_name": "Python 3.7.5 64-bit ('PythonData': conda)",
   "language": "python",
   "name": "python37564bitpythondatacondaae454f6158844ced94d3e9e6f558e103"
  }
 },
 "nbformat": 4,
 "nbformat_minor": 2
}
