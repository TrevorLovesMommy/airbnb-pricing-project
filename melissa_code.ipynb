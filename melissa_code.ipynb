{
 "cells": [
  {
   "cell_type": "code",
   "execution_count": 70,
   "metadata": {},
   "outputs": [],
   "source": [
    "#Import Dependencies\n",
    "import pandas as pd\n",
    "import numpy as np\n",
    "\n",
    "\n",
    "import seaborn as sn\n",
    "import matplotlib.pyplot as plt\n"
   ]
  },
  {
   "cell_type": "code",
   "execution_count": 77,
   "metadata": {},
   "outputs": [
    {
     "data": {
      "text/html": [
       "<div>\n",
       "<style scoped>\n",
       "    .dataframe tbody tr th:only-of-type {\n",
       "        vertical-align: middle;\n",
       "    }\n",
       "\n",
       "    .dataframe tbody tr th {\n",
       "        vertical-align: top;\n",
       "    }\n",
       "\n",
       "    .dataframe thead th {\n",
       "        text-align: right;\n",
       "    }\n",
       "</style>\n",
       "<table border=\"1\" class=\"dataframe\">\n",
       "  <thead>\n",
       "    <tr style=\"text-align: right;\">\n",
       "      <th></th>\n",
       "      <th>zipcode</th>\n",
       "      <th>room_type</th>\n",
       "      <th>accommodates</th>\n",
       "      <th>bedrooms</th>\n",
       "      <th>bathrooms</th>\n",
       "      <th>beds</th>\n",
       "      <th>minimum_nights</th>\n",
       "      <th>number_of_reviews</th>\n",
       "      <th>price</th>\n",
       "    </tr>\n",
       "  </thead>\n",
       "  <tbody>\n",
       "    <tr>\n",
       "      <th>0</th>\n",
       "      <td>94117</td>\n",
       "      <td>Entire home/apt</td>\n",
       "      <td>3</td>\n",
       "      <td>1.0</td>\n",
       "      <td>1.0</td>\n",
       "      <td>2.0</td>\n",
       "      <td>1</td>\n",
       "      <td>240</td>\n",
       "      <td>170.0</td>\n",
       "    </tr>\n",
       "    <tr>\n",
       "      <th>1</th>\n",
       "      <td>94110</td>\n",
       "      <td>Entire home/apt</td>\n",
       "      <td>5</td>\n",
       "      <td>2.0</td>\n",
       "      <td>1.0</td>\n",
       "      <td>3.0</td>\n",
       "      <td>30</td>\n",
       "      <td>111</td>\n",
       "      <td>235.0</td>\n",
       "    </tr>\n",
       "    <tr>\n",
       "      <th>2</th>\n",
       "      <td>94117</td>\n",
       "      <td>Private room</td>\n",
       "      <td>2</td>\n",
       "      <td>1.0</td>\n",
       "      <td>4.0</td>\n",
       "      <td>1.0</td>\n",
       "      <td>32</td>\n",
       "      <td>19</td>\n",
       "      <td>65.0</td>\n",
       "    </tr>\n",
       "    <tr>\n",
       "      <th>3</th>\n",
       "      <td>94117</td>\n",
       "      <td>Private room</td>\n",
       "      <td>2</td>\n",
       "      <td>1.0</td>\n",
       "      <td>4.0</td>\n",
       "      <td>1.0</td>\n",
       "      <td>32</td>\n",
       "      <td>8</td>\n",
       "      <td>65.0</td>\n",
       "    </tr>\n",
       "    <tr>\n",
       "      <th>4</th>\n",
       "      <td>94117</td>\n",
       "      <td>Entire home/apt</td>\n",
       "      <td>4</td>\n",
       "      <td>2.0</td>\n",
       "      <td>1.5</td>\n",
       "      <td>2.0</td>\n",
       "      <td>5</td>\n",
       "      <td>28</td>\n",
       "      <td>703.0</td>\n",
       "    </tr>\n",
       "    <tr>\n",
       "      <th>5</th>\n",
       "      <td>94110</td>\n",
       "      <td>Private room</td>\n",
       "      <td>3</td>\n",
       "      <td>1.0</td>\n",
       "      <td>1.0</td>\n",
       "      <td>1.0</td>\n",
       "      <td>1</td>\n",
       "      <td>736</td>\n",
       "      <td>139.0</td>\n",
       "    </tr>\n",
       "    <tr>\n",
       "      <th>6</th>\n",
       "      <td>94107</td>\n",
       "      <td>Private room</td>\n",
       "      <td>2</td>\n",
       "      <td>1.0</td>\n",
       "      <td>1.0</td>\n",
       "      <td>1.0</td>\n",
       "      <td>1</td>\n",
       "      <td>531</td>\n",
       "      <td>135.0</td>\n",
       "    </tr>\n",
       "    <tr>\n",
       "      <th>7</th>\n",
       "      <td>94110</td>\n",
       "      <td>Entire home/apt</td>\n",
       "      <td>4</td>\n",
       "      <td>2.0</td>\n",
       "      <td>1.0</td>\n",
       "      <td>3.0</td>\n",
       "      <td>30</td>\n",
       "      <td>337</td>\n",
       "      <td>150.0</td>\n",
       "    </tr>\n",
       "    <tr>\n",
       "      <th>8</th>\n",
       "      <td>94109</td>\n",
       "      <td>Entire home/apt</td>\n",
       "      <td>2</td>\n",
       "      <td>0.0</td>\n",
       "      <td>1.0</td>\n",
       "      <td>1.0</td>\n",
       "      <td>30</td>\n",
       "      <td>18</td>\n",
       "      <td>120.0</td>\n",
       "    </tr>\n",
       "    <tr>\n",
       "      <th>9</th>\n",
       "      <td>94117</td>\n",
       "      <td>Entire home/apt</td>\n",
       "      <td>3</td>\n",
       "      <td>3.0</td>\n",
       "      <td>1.0</td>\n",
       "      <td>3.0</td>\n",
       "      <td>30</td>\n",
       "      <td>37</td>\n",
       "      <td>177.0</td>\n",
       "    </tr>\n",
       "    <tr>\n",
       "      <th>10</th>\n",
       "      <td>94102</td>\n",
       "      <td>Entire home/apt</td>\n",
       "      <td>5</td>\n",
       "      <td>3.0</td>\n",
       "      <td>2.0</td>\n",
       "      <td>3.0</td>\n",
       "      <td>30</td>\n",
       "      <td>15</td>\n",
       "      <td>110.0</td>\n",
       "    </tr>\n",
       "    <tr>\n",
       "      <th>11</th>\n",
       "      <td>94102</td>\n",
       "      <td>Entire home/apt</td>\n",
       "      <td>2</td>\n",
       "      <td>1.0</td>\n",
       "      <td>1.5</td>\n",
       "      <td>1.0</td>\n",
       "      <td>30</td>\n",
       "      <td>20</td>\n",
       "      <td>121.0</td>\n",
       "    </tr>\n",
       "    <tr>\n",
       "      <th>12</th>\n",
       "      <td>94117</td>\n",
       "      <td>Private room</td>\n",
       "      <td>2</td>\n",
       "      <td>1.0</td>\n",
       "      <td>3.0</td>\n",
       "      <td>2.0</td>\n",
       "      <td>32</td>\n",
       "      <td>6</td>\n",
       "      <td>85.0</td>\n",
       "    </tr>\n",
       "    <tr>\n",
       "      <th>13</th>\n",
       "      <td>94117</td>\n",
       "      <td>Private room</td>\n",
       "      <td>2</td>\n",
       "      <td>1.0</td>\n",
       "      <td>3.0</td>\n",
       "      <td>2.0</td>\n",
       "      <td>32</td>\n",
       "      <td>5</td>\n",
       "      <td>85.0</td>\n",
       "    </tr>\n",
       "    <tr>\n",
       "      <th>14</th>\n",
       "      <td>94114</td>\n",
       "      <td>Private room</td>\n",
       "      <td>1</td>\n",
       "      <td>1.0</td>\n",
       "      <td>1.0</td>\n",
       "      <td>1.0</td>\n",
       "      <td>3</td>\n",
       "      <td>427</td>\n",
       "      <td>79.0</td>\n",
       "    </tr>\n",
       "    <tr>\n",
       "      <th>15</th>\n",
       "      <td>94117</td>\n",
       "      <td>Entire home/apt</td>\n",
       "      <td>4</td>\n",
       "      <td>2.0</td>\n",
       "      <td>1.0</td>\n",
       "      <td>3.0</td>\n",
       "      <td>30</td>\n",
       "      <td>17</td>\n",
       "      <td>117.0</td>\n",
       "    </tr>\n",
       "    <tr>\n",
       "      <th>16</th>\n",
       "      <td>94105</td>\n",
       "      <td>Entire home/apt</td>\n",
       "      <td>4</td>\n",
       "      <td>2.0</td>\n",
       "      <td>2.0</td>\n",
       "      <td>2.0</td>\n",
       "      <td>30</td>\n",
       "      <td>14</td>\n",
       "      <td>450.0</td>\n",
       "    </tr>\n",
       "    <tr>\n",
       "      <th>17</th>\n",
       "      <td>94114</td>\n",
       "      <td>Entire home/apt</td>\n",
       "      <td>3</td>\n",
       "      <td>0.0</td>\n",
       "      <td>1.0</td>\n",
       "      <td>1.0</td>\n",
       "      <td>30</td>\n",
       "      <td>63</td>\n",
       "      <td>107.0</td>\n",
       "    </tr>\n",
       "    <tr>\n",
       "      <th>18</th>\n",
       "      <td>94117</td>\n",
       "      <td>Private room</td>\n",
       "      <td>2</td>\n",
       "      <td>1.0</td>\n",
       "      <td>1.0</td>\n",
       "      <td>1.0</td>\n",
       "      <td>2</td>\n",
       "      <td>415</td>\n",
       "      <td>110.0</td>\n",
       "    </tr>\n",
       "    <tr>\n",
       "      <th>19</th>\n",
       "      <td>94133</td>\n",
       "      <td>Entire home/apt</td>\n",
       "      <td>2</td>\n",
       "      <td>1.0</td>\n",
       "      <td>1.0</td>\n",
       "      <td>1.0</td>\n",
       "      <td>30</td>\n",
       "      <td>119</td>\n",
       "      <td>125.0</td>\n",
       "    </tr>\n",
       "  </tbody>\n",
       "</table>\n",
       "</div>"
      ],
      "text/plain": [
       "    zipcode        room_type  accommodates  bedrooms  bathrooms  beds  \\\n",
       "0     94117  Entire home/apt             3       1.0        1.0   2.0   \n",
       "1     94110  Entire home/apt             5       2.0        1.0   3.0   \n",
       "2     94117     Private room             2       1.0        4.0   1.0   \n",
       "3     94117     Private room             2       1.0        4.0   1.0   \n",
       "4     94117  Entire home/apt             4       2.0        1.5   2.0   \n",
       "5     94110     Private room             3       1.0        1.0   1.0   \n",
       "6     94107     Private room             2       1.0        1.0   1.0   \n",
       "7     94110  Entire home/apt             4       2.0        1.0   3.0   \n",
       "8     94109  Entire home/apt             2       0.0        1.0   1.0   \n",
       "9     94117  Entire home/apt             3       3.0        1.0   3.0   \n",
       "10    94102  Entire home/apt             5       3.0        2.0   3.0   \n",
       "11    94102  Entire home/apt             2       1.0        1.5   1.0   \n",
       "12    94117     Private room             2       1.0        3.0   2.0   \n",
       "13    94117     Private room             2       1.0        3.0   2.0   \n",
       "14    94114     Private room             1       1.0        1.0   1.0   \n",
       "15    94117  Entire home/apt             4       2.0        1.0   3.0   \n",
       "16    94105  Entire home/apt             4       2.0        2.0   2.0   \n",
       "17    94114  Entire home/apt             3       0.0        1.0   1.0   \n",
       "18    94117     Private room             2       1.0        1.0   1.0   \n",
       "19    94133  Entire home/apt             2       1.0        1.0   1.0   \n",
       "\n",
       "    minimum_nights  number_of_reviews  price  \n",
       "0                1                240  170.0  \n",
       "1               30                111  235.0  \n",
       "2               32                 19   65.0  \n",
       "3               32                  8   65.0  \n",
       "4                5                 28  703.0  \n",
       "5                1                736  139.0  \n",
       "6                1                531  135.0  \n",
       "7               30                337  150.0  \n",
       "8               30                 18  120.0  \n",
       "9               30                 37  177.0  \n",
       "10              30                 15  110.0  \n",
       "11              30                 20  121.0  \n",
       "12              32                  6   85.0  \n",
       "13              32                  5   85.0  \n",
       "14               3                427   79.0  \n",
       "15              30                 17  117.0  \n",
       "16              30                 14  450.0  \n",
       "17              30                 63  107.0  \n",
       "18               2                415  110.0  \n",
       "19              30                119  125.0  "
      ]
     },
     "execution_count": 77,
     "metadata": {},
     "output_type": "execute_result"
    }
   ],
   "source": [
    "#testing replacing CA\n",
    "\n",
    "file = \"Resources/listings.csv\"\n",
    "\n",
    "df = pd.read_csv(file)\n",
    "columns_to_keep = [\"zipcode\", \"room_type\", \"accommodates\", \"bedrooms\", \"bathrooms\", \"beds\", \"minimum_nights\", \"number_of_reviews\", \"price\"]\n",
    "df = df[columns_to_keep]\n",
    "\n",
    "#drop all rows with nulls\n",
    "data_df.dropna(how='any', inplace=True)\n",
    "\n",
    "#make copy of df to avoid warning errors\n",
    "data_df = df.copy()\n",
    "\n",
    "# Price is a string.  Remove $ and convert into float\n",
    "# https://stackoverflow.com/questions/32464280/converting-currency-with-to-numbers-in-python-pandas\n",
    "data_df[\"price\"] = data_df[\"price\"].replace('[\\$,]', '', regex=True).astype(float)\n",
    "\n",
    "#there is one row where they have \"CA\" for zipcode.  Drop that row.\n",
    "data_df=data_df[data_df.zipcode != \"CA\"]\n",
    "\n",
    "#some zipcodes start with CA.  replace \"CA \" with \"\" \n",
    "#https://stackoverflow.com/questions/13682044/remove-unwanted-parts-from-strings-in-a-column\n",
    "data_df[\"zipcode\"] = data_df[\"zipcode\"].replace('CA ', '', regex=True)\n",
    "\n",
    "#drop all rows with nulls\n",
    "data_df.dropna(how='any', inplace=True)\n",
    "\n",
    "#convert zipcodes to intergers - ask justin if we need to do this?????\n",
    "data_df[\"zipcode\"] = data_df[\"zipcode\"].astype(str).astype(int)\n",
    "\n",
    "#we only want to keep prices below $800\n",
    "data_df = data_df[data_df.price < 800]\n",
    "\n",
    "data_df.to_csv(\"Output/cleaned_data.csv\", index = False)\n",
    "\n",
    "data_df.head(20)"
   ]
  },
  {
   "cell_type": "code",
   "execution_count": 75,
   "metadata": {},
   "outputs": [
    {
     "data": {
      "text/plain": [
       "zipcode                int32\n",
       "room_type             object\n",
       "accommodates           int64\n",
       "bedrooms             float64\n",
       "bathrooms            float64\n",
       "beds                 float64\n",
       "minimum_nights         int64\n",
       "number_of_reviews      int64\n",
       "price                float64\n",
       "dtype: object"
      ]
     },
     "execution_count": 75,
     "metadata": {},
     "output_type": "execute_result"
    }
   ],
   "source": [
    "data_df.dtypes"
   ]
  },
  {
   "cell_type": "code",
   "execution_count": 92,
   "metadata": {},
   "outputs": [
    {
     "name": "stdout",
     "output_type": "stream",
     "text": [
      "[0, 9.99, 19.99, 29.99, 39.99, 49.99, 59.99, 69.99, 79.99, 89.99, 99.99, 109.99, 119.99, 129.99, 139.99, 149.99, 159.99, 169.99, 179.99, 189.99, 199.99, 209.99, 219.99, 229.99, 239.99, 249.99, 259.99, 269.99, 279.99, 289.99, 299.99, 309.99, 319.99, 329.99, 339.99, 349.99, 359.99, 369.99, 379.99, 389.99, 399.99, 409.99, 419.99, 429.99, 439.99, 449.99, 459.99, 469.99, 479.99, 489.99, 499.99, 509.99, 519.99, 529.99, 539.99, 549.99, 559.99, 569.99, 579.99, 589.99, 599.99, 609.99, 619.99, 629.99, 639.99, 649.99, 659.99, 669.99, 679.99, 689.99, 699.99, 709.99, 719.99, 729.99, 739.99, 749.99, 759.99, 769.99, 779.99, 789.99, 799.99] ['bin 0-9.99', 'bin 10-19.99', 'bin 20-29.99', 'bin 30-39.99', 'bin 40-49.99', 'bin 50-59.99', 'bin 60-69.99', 'bin 70-79.99', 'bin 80-89.99', 'bin 90-99.99', 'bin 100-109.99', 'bin 110-119.99', 'bin 120-129.99', 'bin 130-139.99', 'bin 140-149.99', 'bin 150-159.99', 'bin 160-169.99', 'bin 170-179.99', 'bin 180-189.99', 'bin 190-199.99', 'bin 200-209.99', 'bin 210-219.99', 'bin 220-229.99', 'bin 230-239.99', 'bin 240-249.99', 'bin 250-259.99', 'bin 260-269.99', 'bin 270-279.99', 'bin 280-289.99', 'bin 290-299.99', 'bin 300-309.99', 'bin 310-319.99', 'bin 320-329.99', 'bin 330-339.99', 'bin 340-349.99', 'bin 350-359.99', 'bin 360-369.99', 'bin 370-379.99', 'bin 380-389.99', 'bin 390-399.99', 'bin 400-409.99', 'bin 410-419.99', 'bin 420-429.99', 'bin 430-439.99', 'bin 440-449.99', 'bin 450-459.99', 'bin 460-469.99', 'bin 470-479.99', 'bin 480-489.99', 'bin 490-499.99', 'bin 500-509.99', 'bin 510-519.99', 'bin 520-529.99', 'bin 530-539.99', 'bin 540-549.99', 'bin 550-559.99', 'bin 560-569.99', 'bin 570-579.99', 'bin 580-589.99', 'bin 590-599.99', 'bin 600-609.99', 'bin 610-619.99', 'bin 620-629.99', 'bin 630-639.99', 'bin 640-649.99', 'bin 650-659.99', 'bin 660-669.99', 'bin 670-679.99', 'bin 680-689.99', 'bin 690-699.99', 'bin 700-709.99', 'bin 710-719.99', 'bin 720-729.99', 'bin 730-739.99', 'bin 740-749.99', 'bin 750-759.99', 'bin 760-769.99', 'bin 770-779.99', 'bin 780-789.99', 'bin 790-799.99']\n",
      "81 80\n"
     ]
    }
   ],
   "source": [
    "#create bins for price bins\n",
    "bins = [0]\n",
    "group_names = []\n",
    "\n",
    "for i in range (0,80):\n",
    "    x = round((i*10) +9.99,3)\n",
    "    bins.append(x)\n",
    "    name = \"bin \" + str(i*10) + \"-\" + str(x)\n",
    "    group_names.append(name)\n",
    "    \n",
    "print(bins, group_names)\n",
    "print(len(bins), len(group_names))"
   ]
  },
  {
   "cell_type": "code",
   "execution_count": 95,
   "metadata": {},
   "outputs": [
    {
     "data": {
      "text/html": [
       "<div>\n",
       "<style scoped>\n",
       "    .dataframe tbody tr th:only-of-type {\n",
       "        vertical-align: middle;\n",
       "    }\n",
       "\n",
       "    .dataframe tbody tr th {\n",
       "        vertical-align: top;\n",
       "    }\n",
       "\n",
       "    .dataframe thead th {\n",
       "        text-align: right;\n",
       "    }\n",
       "</style>\n",
       "<table border=\"1\" class=\"dataframe\">\n",
       "  <thead>\n",
       "    <tr style=\"text-align: right;\">\n",
       "      <th></th>\n",
       "      <th>zipcode</th>\n",
       "      <th>room_type</th>\n",
       "      <th>accommodates</th>\n",
       "      <th>bedrooms</th>\n",
       "      <th>bathrooms</th>\n",
       "      <th>beds</th>\n",
       "      <th>minimum_nights</th>\n",
       "      <th>number_of_reviews</th>\n",
       "      <th>price</th>\n",
       "      <th>price_bins</th>\n",
       "    </tr>\n",
       "  </thead>\n",
       "  <tbody>\n",
       "    <tr>\n",
       "      <th>0</th>\n",
       "      <td>94117</td>\n",
       "      <td>Entire home/apt</td>\n",
       "      <td>3</td>\n",
       "      <td>1.0</td>\n",
       "      <td>1.0</td>\n",
       "      <td>2.0</td>\n",
       "      <td>1</td>\n",
       "      <td>240</td>\n",
       "      <td>170.0</td>\n",
       "      <td>bin 170-179.99</td>\n",
       "    </tr>\n",
       "    <tr>\n",
       "      <th>1</th>\n",
       "      <td>94110</td>\n",
       "      <td>Entire home/apt</td>\n",
       "      <td>5</td>\n",
       "      <td>2.0</td>\n",
       "      <td>1.0</td>\n",
       "      <td>3.0</td>\n",
       "      <td>30</td>\n",
       "      <td>111</td>\n",
       "      <td>235.0</td>\n",
       "      <td>bin 230-239.99</td>\n",
       "    </tr>\n",
       "    <tr>\n",
       "      <th>2</th>\n",
       "      <td>94117</td>\n",
       "      <td>Private room</td>\n",
       "      <td>2</td>\n",
       "      <td>1.0</td>\n",
       "      <td>4.0</td>\n",
       "      <td>1.0</td>\n",
       "      <td>32</td>\n",
       "      <td>19</td>\n",
       "      <td>65.0</td>\n",
       "      <td>bin 60-69.99</td>\n",
       "    </tr>\n",
       "    <tr>\n",
       "      <th>3</th>\n",
       "      <td>94117</td>\n",
       "      <td>Private room</td>\n",
       "      <td>2</td>\n",
       "      <td>1.0</td>\n",
       "      <td>4.0</td>\n",
       "      <td>1.0</td>\n",
       "      <td>32</td>\n",
       "      <td>8</td>\n",
       "      <td>65.0</td>\n",
       "      <td>bin 60-69.99</td>\n",
       "    </tr>\n",
       "    <tr>\n",
       "      <th>4</th>\n",
       "      <td>94117</td>\n",
       "      <td>Entire home/apt</td>\n",
       "      <td>4</td>\n",
       "      <td>2.0</td>\n",
       "      <td>1.5</td>\n",
       "      <td>2.0</td>\n",
       "      <td>5</td>\n",
       "      <td>28</td>\n",
       "      <td>703.0</td>\n",
       "      <td>bin 700-709.99</td>\n",
       "    </tr>\n",
       "  </tbody>\n",
       "</table>\n",
       "</div>"
      ],
      "text/plain": [
       "   zipcode        room_type  accommodates  bedrooms  bathrooms  beds  \\\n",
       "0    94117  Entire home/apt             3       1.0        1.0   2.0   \n",
       "1    94110  Entire home/apt             5       2.0        1.0   3.0   \n",
       "2    94117     Private room             2       1.0        4.0   1.0   \n",
       "3    94117     Private room             2       1.0        4.0   1.0   \n",
       "4    94117  Entire home/apt             4       2.0        1.5   2.0   \n",
       "\n",
       "   minimum_nights  number_of_reviews  price      price_bins  \n",
       "0               1                240  170.0  bin 170-179.99  \n",
       "1              30                111  235.0  bin 230-239.99  \n",
       "2              32                 19   65.0    bin 60-69.99  \n",
       "3              32                  8   65.0    bin 60-69.99  \n",
       "4               5                 28  703.0  bin 700-709.99  "
      ]
     },
     "execution_count": 95,
     "metadata": {},
     "output_type": "execute_result"
    }
   ],
   "source": [
    "#cut the bins and group names to the dataframe\n",
    "\n",
    "data_df[\"price_bins\"] = pd.cut(data_df[\"price\"], bins, labels=group_names)\n",
    "data_df.head()"
   ]
  },
  {
   "cell_type": "code",
   "execution_count": 47,
   "metadata": {},
   "outputs": [],
   "source": [
    "#Loading CSV files\n",
    "data = \"Resources/listings.csv\""
   ]
  },
  {
   "cell_type": "code",
   "execution_count": null,
   "metadata": {},
   "outputs": [],
   "source": [
    "#CSV to DataFrame\n",
    "data_df = pd.read_csv(data, low_memory=False)\n",
    "data_df.head()"
   ]
  },
  {
   "cell_type": "code",
   "execution_count": null,
   "metadata": {
    "scrolled": false
   },
   "outputs": [],
   "source": [
    "#data_df.columns.tolist()"
   ]
  },
  {
   "cell_type": "markdown",
   "metadata": {},
   "source": [
    "## Correlation Matrix"
   ]
  },
  {
   "cell_type": "code",
   "execution_count": null,
   "metadata": {
    "scrolled": true
   },
   "outputs": [],
   "source": [
    "corrMatrix = data_df.corr()\n",
    "print (corrMatrix)\n",
    "sn.heatmap(corrMatrix, annot=True)\n",
    "plt.tight_layout()\n",
    "plt.autoscale()\n",
    "\n",
    "plt.savefig('correlation_matrix.png', bbox_inches='tight', pad_inches=0.0)\n",
    "plt.show()"
   ]
  },
  {
   "cell_type": "markdown",
   "metadata": {},
   "source": [
    "## Create Training Set"
   ]
  },
  {
   "cell_type": "code",
   "execution_count": null,
   "metadata": {},
   "outputs": [],
   "source": []
  },
  {
   "cell_type": "code",
   "execution_count": null,
   "metadata": {},
   "outputs": [],
   "source": [
    "# columns to keep\n",
    "columns_to_keep = [\"zipcode\", \"room_type\", \"accommodates\", \"bedrooms\", \"bathrooms\", \"beds\", \"minimum_nights\", \"number_of_reviews\", \"price\"]\n",
    "data_train = data_df[columns_to_keep]\n",
    "data_train.head()\n",
    "\n",
    "# make a copy to avoid warning error\n",
    "data_df = data_train.copy()\n",
    "\n",
    "\n",
    "\n",
    "# convert price strings into float\n",
    "# https://stackoverflow.com/questions/32464280/converting-currency-with-to-numbers-in-python-pandas\n",
    "data_df[\"price\"] = data_df[\"price\"].replace('[\\$,]', '', regex=True).astype(float)\n",
    "\n",
    "#some zipcodes start with CA.  replace \"CA \" with \"\" and convert to integers\n",
    "#https://stackoverflow.com/questions/13682044/remove-unwanted-parts-from-strings-in-a-column\n",
    "data_df[\"zipcode\"] = data_df[\"zipcode\"].replace(regex=True, to_replace=\"CA \", value=\"\").astype(int)\n",
    "\n",
    "\n",
    "#drop all nans\n",
    "data_df = data_df.dropna()\n",
    "\n",
    "\n",
    "#data_df.dtypes\n",
    "data_df.head()\n"
   ]
  },
  {
   "cell_type": "code",
   "execution_count": null,
   "metadata": {},
   "outputs": [],
   "source": [
    "# Assign X (data/features) and y (target)\n",
    "\n",
    "target = data_df[\"price\"]\n",
    "data = data_df.drop(\"price\", axis = 1)\n",
    "feature_names = data.columns\n",
    "data.head()\n",
    "print(target.shape, data.shape)\n"
   ]
  },
  {
   "cell_type": "code",
   "execution_count": null,
   "metadata": {},
   "outputs": [],
   "source": [
    "# Assign X (data/features) and y (target)\n",
    "\n",
    "y = data_df[\"price\"].values.reshape(-1,1)\n",
    "X = data_df.drop(\"price\", axis = 1)\n",
    "feature_names = X.columns\n",
    "X.head()\n",
    "print(y.shape, X.shape)"
   ]
  },
  {
   "cell_type": "code",
   "execution_count": null,
   "metadata": {},
   "outputs": [],
   "source": [
    "from sklearn.preprocessing import LabelEncoder, MinMaxScaler \n",
    "from sklearn.preprocessing import OneHotEncoder\n",
    "from tensorflow.keras.utils import to_categorical\n",
    "from sklearn.model_selection import train_test_split \n"
   ]
  },
  {
   "cell_type": "code",
   "execution_count": null,
   "metadata": {},
   "outputs": [],
   "source": [
    "X_train, X_test, y_train, y_test = train_test_split(\n",
    "    X, y, random_state=1)\n",
    "\n",
    "X_scaler = MinMaxScaler().fit(X_train)\n",
    "X_train_scaled = X_scaler.transform(X_train)\n",
    "X_test_scaled = X_scaler.transform(X_test)\n",
    "\n"
   ]
  },
  {
   "cell_type": "code",
   "execution_count": null,
   "metadata": {},
   "outputs": [],
   "source": []
  },
  {
   "cell_type": "code",
   "execution_count": null,
   "metadata": {},
   "outputs": [],
   "source": []
  },
  {
   "cell_type": "code",
   "execution_count": null,
   "metadata": {},
   "outputs": [],
   "source": []
  },
  {
   "cell_type": "code",
   "execution_count": null,
   "metadata": {},
   "outputs": [],
   "source": [
    "#Practice dropping columns - ASK JUSTIN!!!!\n",
    "\n",
    "del data_df['listing_url']\n",
    "#data_df.drop(['scrape_id', 'summary', 'last_scraped'], axis=1, inplace=True)\n",
    "data_df = data_df.drop(['scrape_id',  'summary', 'last_scraped'], axis=1)  #why doesn't this work?\n",
    "\n",
    "#data_df.drop(\"space\", axis=1) #why doesn't this work?\n",
    "\n",
    "#del data_df[['scrape_id', 'name']]\n",
    "#data_df.drop(columns=['scrape_id', 'name'], axis = 1)\n",
    "#data_df.drop(['scrape_id', 'name'], axis=1)\n",
    "\n",
    "data_df.columns.tolist()"
   ]
  },
  {
   "cell_type": "code",
   "execution_count": null,
   "metadata": {},
   "outputs": [],
   "source": [
    "#Selecting colums for a new data frame\n",
    "mapping_select = [\"id\", \"name\", \"neighbourhood_cleansed\",\"latitude\",\"longitude\",\"room_type\",\"minimum_maximum_nights\",\"license\"]\n",
    "#Making a copy of the new data set\n",
    "mapping_data= data_df[mapping_select].copy()\n",
    "mapping_data\n"
   ]
  },
  {
   "cell_type": "code",
   "execution_count": null,
   "metadata": {},
   "outputs": [],
   "source": [
    "#Checking data types of each column\n",
    "mapping_data.dtypes"
   ]
  },
  {
   "cell_type": "code",
   "execution_count": null,
   "metadata": {},
   "outputs": [],
   "source": [
    "#my version\n",
    "mapping_data[\"room_type\"].value_counts()\n",
    "\n",
    "#Pulling and counting unique values in room_type column\n",
    "#yulia's version\n",
    "#mapping_data.room_type.value_counts()"
   ]
  },
  {
   "cell_type": "code",
   "execution_count": null,
   "metadata": {},
   "outputs": [],
   "source": [
    "#Dropping dublicates in ID column\n",
    "mapping_data.drop_duplicates(\"id\", inplace=True)\n",
    "#Dropping rows with \"Hotel room\" value in room_type, because we want to analyze privetly owned properties managed by a host\n",
    "mapping_df = mapping_data[mapping_data.room_type != 'Hotel room']\n",
    "mapping_df"
   ]
  },
  {
   "cell_type": "code",
   "execution_count": null,
   "metadata": {},
   "outputs": [],
   "source": [
    "#Dropping dublicates in ID column\n",
    "mapping_data.drop_duplicates(\"id\", inplace=True)\n",
    "\n",
    "# filter with .loc and conditional.  Learned this in class.  This works, but I find it very verbose\n",
    "mapping_data = mapping_data.loc[(mapping_data[\"room_type\"] == \"Entire home/apt\") | \n",
    "                            (mapping_data[\"room_type\"] == \"Private room\") | \n",
    "                            (mapping_data[\"room_type\"] == \"Shared room\"),\n",
    "                            :]\n",
    "\n",
    "# This works too.  I like this version better, but Juli's original version of selecting everything not hotel better!\n",
    "# mapping_df = mapping_df[(mapping_df.room_type == \"Entire home/apt\") | \n",
    "#                             (mapping_df.room_type == \"Private room\") | \n",
    "#                             (mapping_df.room_type == \"Shared room\")]\n",
    "\n",
    "\n",
    "mapping_data.head(10)\n",
    "#mapping_data.shape #(8472, 8)mapping_data\n",
    "\n",
    "\n",
    "# Yulia's version\n",
    "#Dropping rows with \"Hotel room\" value in room_type, because we want to analyze privetly owned properties managed by a host\n",
    "# mapping_df = mapping_data[mapping_data.room_type != 'Hotel room']\n",
    "# mapping_df\n"
   ]
  },
  {
   "cell_type": "code",
   "execution_count": null,
   "metadata": {},
   "outputs": [],
   "source": [
    "#Dropping rows with \"License not needed per OSTR\" value in license\n",
    "mapping_df_2 = mapping_df[mapping_df.license != 'License not needed per OSTR']\n",
    "mapping_df_2"
   ]
  },
  {
   "cell_type": "code",
   "execution_count": null,
   "metadata": {},
   "outputs": [],
   "source": [
    "mapping_df_2 = mapping_df_2[mapping_df_2.license != 'Licensed Hotel/B&B']\n",
    "mapping_df_2"
   ]
  },
  {
   "cell_type": "code",
   "execution_count": null,
   "metadata": {},
   "outputs": [],
   "source": [
    "#Converting all lowercase characters in \"license\" column into uppercase characters for checking values to \n",
    "#determine legal/illigal status\n",
    "mapping_df_2['license'].str.upper()\n",
    "mapping_df_2"
   ]
  },
  {
   "cell_type": "code",
   "execution_count": null,
   "metadata": {},
   "outputs": [],
   "source": [
    "#Filtering data set by  \"Entire home/apt\" value in \"room_type\" column\n",
    "# mapping_new = mapping_df_2.loc[mapping_df_2['room_type'] == \"Entire home/apt\"]\n",
    "# mapping_new\n",
    "\n",
    "#This is my version inspired my yulia's examples\n",
    "mapping_new = mapping_df_2[(mapping_df_2.room_type == \"Entire home/apt\")]\n",
    "mapping_new\n",
    "\n"
   ]
  },
  {
   "cell_type": "code",
   "execution_count": null,
   "metadata": {},
   "outputs": [],
   "source": [
    "#Adding \"illigal\" column to fill in after checking \"for-loop\" condotions in each row of the data\n",
    "mapping_new['illegal'] = ''\n",
    "mapping_new"
   ]
  },
  {
   "cell_type": "code",
   "execution_count": null,
   "metadata": {},
   "outputs": [],
   "source": [
    "# #for i in mapping_new.index:\n",
    "# for i in range(len(mapping_new)) : \n",
    "#     licence =  mapping_new.iloc[i,7] #assign licence string into a variable\n",
    "#     print(licence)\n",
    "#     print(mapping_new.iloc[i,6])\n",
    "#     if isinstance(licence, float) == False:\n",
    "#         if (mapping_new.iloc[i,6] < 90) or (mapping_new.iloc[i,6] > 90 and licence.startswith('STR')) :\n",
    "#             mapping_new.iloc[i,8]= 'legal'\n",
    "#             #add 'legal' to the legal column\n",
    "#         else:\n",
    "#             mapping_new.iloc[i,8]= 'illegal'\n",
    "#             #add 'illegal' to the legal column\n",
    "#     elif mapping_new.iloc[i,6] > 90:\n",
    "#         mapping_new.iloc[i,8]= 'illegal'\n",
    "#     else: \n",
    "#         mapping_new.iloc[i,8]= 'legal'\n",
    "\n",
    "\n",
    "#correcting for legal logic\n",
    "for i in range(len(mapping_new)) : \n",
    "    licence =  mapping_new.iloc[i,7] #assign licence string into a variable\n",
    "    print(licence)\n",
    "    print(mapping_new.iloc[i,6])\n",
    "    if isinstance(licence, float) == False:\n",
    "        if (mapping_new.iloc[i,6] <= 90 and licence.startswith('STR')) :\n",
    "            mapping_new.iloc[i,8]= 'legal'\n",
    "            #add 'legal' to the legal column\n",
    "        else:\n",
    "            mapping_new.iloc[i,8]= 'illegal'\n",
    "            #add 'illegal' to the legal column\n",
    "    else: \n",
    "        mapping_new.iloc[i,8]= 'illegal'\n",
    "        \n",
    "        \n",
    "#another version of above code using .loc instead of .iloc.  This doesn't work                \n",
    "# for i in range(len(mapping_new)) : \n",
    "#     licence_temp =  mapping_new.loc[i,'license'] #assign licence string into a variable\n",
    "#     print(licence_temp)\n",
    "#     print(mapping_new.loc[i,'minimum_maximum_nights'])\n",
    "#     if isinstance(licence_temp, float) == False:\n",
    "#         if (mapping_new.loc[i,'minimum_maximum_nights'] <= 90 and licence_temp.startswith('STR')) :\n",
    "#             mapping_new.loc[i,'illegal']= 'legal'\n",
    "#             #add 'legal' to the legal column\n",
    "#         else:\n",
    "#             mapping_new.loc[i,'illegal']= 'illegal'\n",
    "#             #add 'illegal' to the legal column\n",
    "#     else: \n",
    "#         mapping_new.loc[i,'illegal']= 'illegal'        \n",
    "\n"
   ]
  },
  {
   "cell_type": "code",
   "execution_count": null,
   "metadata": {},
   "outputs": [],
   "source": [
    "mapping_new"
   ]
  },
  {
   "cell_type": "code",
   "execution_count": null,
   "metadata": {},
   "outputs": [],
   "source": [
    "#Creating output csv file \n",
    "mapping_new.to_csv(\"Output/mapping_data.csv\", index = False)"
   ]
  },
  {
   "cell_type": "code",
   "execution_count": null,
   "metadata": {},
   "outputs": [],
   "source": [
    "#Saving priviously created data frame to new variable \n",
    "roomtype_df = mapping_df_2\n",
    "roomtype_df"
   ]
  },
  {
   "cell_type": "markdown",
   "metadata": {},
   "source": [
    "## ASK JUSTIN - how to remov index and do I need to do pd.DataFrame after a groupby?"
   ]
  },
  {
   "cell_type": "code",
   "execution_count": null,
   "metadata": {},
   "outputs": [],
   "source": [
    "#Making a copy of a data set\n",
    "room_type_df= mapping_df_2.copy()\n",
    "\n",
    "#same results as Yulia\n",
    "roomtype_mel = room_type_df.groupby(\"room_type\").count().reset_index()\n",
    "#roomtype_mel_df = pd.DataFrame(roomtype_mel)\n",
    "roomtype_mel\n",
    "\n",
    "#after gb, no longer condisdered a df object (becomes*GB series object), that's why you need to do a pd.DataFrame do gain pandas functions again."
   ]
  },
  {
   "cell_type": "markdown",
   "metadata": {},
   "source": [
    "## Ask justin if I really need to Do pd.DataFrame after groupby"
   ]
  },
  {
   "cell_type": "code",
   "execution_count": null,
   "metadata": {},
   "outputs": [],
   "source": [
    "roomtype_mel = roomtype_mel[[\"room_type\",\"id\"]]\n",
    "roomtype_mel_df = pd.DataFrame(roomtype_mel)   ###Ask justin if I really need to Do Data frame\n",
    "roomtype_mel_df\n",
    "\n",
    "#Yulia's original code\n",
    "#Grouping data by \"room_type\" and counting values\n",
    "# roomtype_new = room_type_df.groupby('room_type')['id'].count()\n",
    "# roomtype_new"
   ]
  },
  {
   "cell_type": "code",
   "execution_count": null,
   "metadata": {},
   "outputs": [],
   "source": [
    "#Another way to do room type with value counts on the room_type column\n",
    "roomtype_df\n",
    "roomtype_value_count = roomtype_df[\"room_type\"].value_counts()\n",
    "roomtype_value_count"
   ]
  },
  {
   "cell_type": "code",
   "execution_count": null,
   "metadata": {},
   "outputs": [],
   "source": [
    "#my code for legal\n",
    "legal_df= mapping_new.copy()\n",
    "legal_df\n",
    "\n",
    "legal_grouped_df = legal_df.groupby(\"illegal\").count().reset_index()\n",
    "legal_grouped_df = legal_grouped_df[[\"illegal\", \"id\"]]\n",
    "legal_grouped_df.columns =[\"illegal\", \"count\"]\n",
    "legal_grouped_df\n"
   ]
  },
  {
   "cell_type": "code",
   "execution_count": null,
   "metadata": {},
   "outputs": [],
   "source": [
    "#another way to to legal/illegal count with value counts on illegal column\n",
    "legal_df\n",
    "legal_value_counts = legal_df[\"illegal\"].value_counts()\n",
    "legal_value_counts = pd.DataFrame(legal_value_counts)\n",
    "legal_value_counts"
   ]
  },
  {
   "cell_type": "code",
   "execution_count": null,
   "metadata": {},
   "outputs": [],
   "source": [
    "#Yulia's Original code\n",
    "#Making a copy of a data set\n",
    "legal_df= mapping_new.copy()\n",
    "#Grouping data by legal/illigal status and counting values\n",
    "legal_df = legal_df.groupby('illegal')['id'].count()\n",
    "legal_df"
   ]
  },
  {
   "cell_type": "markdown",
   "metadata": {},
   "source": [
    "## Groupby roomcount"
   ]
  },
  {
   "cell_type": "code",
   "execution_count": null,
   "metadata": {},
   "outputs": [],
   "source": [
    "neighborhood_df= mapping_df.copy()\n",
    "legal_df= mapping_new.copy()\n",
    "legal_df"
   ]
  },
  {
   "cell_type": "code",
   "execution_count": null,
   "metadata": {},
   "outputs": [],
   "source": [
    "neighborhood_grouped_df = neighborhood_df.groupby([\"neighbourhood_cleansed\", \"room_type\"]).count().reset_index()\n",
    "#neighborhood_grouped_df = neighborhood_df.groupby([\"neighbourhood_cleansed\", \"room_type\"]).count().reset_index(drop=True, inplace=True)\n",
    "neighborhood_grouped_x = neighborhood_grouped_df[['neighbourhood_cleansed', 'room_type', 'id']]\n",
    "neighborhood_grouped_x\n"
   ]
  },
  {
   "cell_type": "markdown",
   "metadata": {},
   "source": [
    "## How do i get rid of weird headings - ask justin"
   ]
  },
  {
   "cell_type": "code",
   "execution_count": null,
   "metadata": {},
   "outputs": [],
   "source": [
    "#Using pivot function to restructure Data Frame\n",
    "table = pd.pivot_table(neighborhood_grouped_x, values='id',\n",
    "                    columns=\"room_type\", index= \"neighbourhood_cleansed\")\n",
    "#table = table.reset_index()\n",
    "\n",
    "table = table.rename_axis(None, axis = 1)\n",
    "table = table.rename_axis(None, axis = 0)\n",
    "#table.set_index(['neighbourhood_cleansed'])\n",
    "#table = pd.DataFrame(table)\n",
    "table"
   ]
  },
  {
   "cell_type": "code",
   "execution_count": null,
   "metadata": {},
   "outputs": [],
   "source": [
    "table.to_csv(\"Output/grouped_neighborhoods.csv\")"
   ]
  },
  {
   "cell_type": "markdown",
   "metadata": {},
   "source": [
    "## What happens if I group jst by neighborhood and roomtypes?"
   ]
  },
  {
   "cell_type": "code",
   "execution_count": null,
   "metadata": {},
   "outputs": [],
   "source": [
    "neighborhood_df\n",
    "neighborhood_test = neighborhood_df[[\"neighbourhood_cleansed\", \"room_type\"]]\n",
    "neighborhood_test"
   ]
  },
  {
   "cell_type": "markdown",
   "metadata": {},
   "source": [
    "## Ask Justin why this doesnt work"
   ]
  },
  {
   "cell_type": "code",
   "execution_count": null,
   "metadata": {},
   "outputs": [],
   "source": [
    "neighborhood_grouped_test = neighborhood_df.groupby([\"neighbourhood_cleansed\", \"room_type\"]).count()\n",
    "#neighborhood_grouped_test = neighborhood_df.groupby([\"neighbourhood_cleansed\", \"room_type\"]).value_counts()  vc usually run on an entire df without a groupby, or on a series\n",
    "neighborhood_grouped_test\n",
    "#neighborhood_grouped_df = neighborhood_df.groupby([\"neighbourhood_cleansed\", \"room_type\"]).count().reset_index(drop=True, inplace=True)\n",
    "#neighborhood_grouped_x = neighborhood_grouped_df[['neighbourhood_cleansed', 'room_type', 'id']]\n",
    "#neighborhood_grouped_x\n"
   ]
  },
  {
   "cell_type": "code",
   "execution_count": null,
   "metadata": {},
   "outputs": [],
   "source": []
  }
 ],
 "metadata": {
  "kernelspec": {
   "display_name": "Python 3.7.5 64-bit ('PythonData': conda)",
   "language": "python",
   "name": "python37564bitpythondatacondaae454f6158844ced94d3e9e6f558e103"
  },
  "language_info": {
   "codemirror_mode": {
    "name": "ipython",
    "version": 3
   },
   "file_extension": ".py",
   "mimetype": "text/x-python",
   "name": "python",
   "nbconvert_exporter": "python",
   "pygments_lexer": "ipython3",
   "version": "3.7.5"
  }
 },
 "nbformat": 4,
 "nbformat_minor": 2
}
