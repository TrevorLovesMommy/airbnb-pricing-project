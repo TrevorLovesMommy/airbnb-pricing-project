{
 "cells": [
  {
   "cell_type": "code",
   "execution_count": 3,
   "metadata": {},
   "outputs": [],
   "source": [
    "#Import Dependencies\n",
    "import pandas as pd\n",
    "import numpy as np\n",
    "import tensorflow\n",
    "\n",
    "import seaborn as sn\n",
    "import matplotlib.pyplot as plt\n",
    "\n",
    "from sklearn.model_selection import train_test_split \n",
    "from sklearn.preprocessing import LabelEncoder, MinMaxScaler \n",
    "from sklearn.preprocessing import OneHotEncoder\n",
    "from tensorflow.keras.utils import to_categorical\n",
    "import tensorflow as tf\n",
    "from keras.utils import to_categorical\n",
    "from keras.models import Sequential\n",
    "from keras.layers import Dense\n",
    "from keras.callbacks import EarlyStopping"
   ]
  },
  {
   "cell_type": "code",
   "execution_count": 4,
   "metadata": {},
   "outputs": [
    {
     "name": "stdout",
     "output_type": "stream",
     "text": [
      "Requirement already up-to-date: sklearn in c:\\users\\melis\\anaconda3\\envs\\pythondata\\lib\\site-packages (0.0)\n",
      "Requirement already satisfied, skipping upgrade: scikit-learn in c:\\users\\melis\\anaconda3\\envs\\pythondata\\lib\\site-packages (from sklearn) (0.21.3)\n",
      "Requirement already satisfied, skipping upgrade: scipy>=0.17.0 in c:\\users\\melis\\anaconda3\\envs\\pythondata\\lib\\site-packages (from scikit-learn->sklearn) (1.3.1)\n",
      "Requirement already satisfied, skipping upgrade: numpy>=1.11.0 in c:\\users\\melis\\anaconda3\\envs\\pythondata\\lib\\site-packages (from scikit-learn->sklearn) (1.17.3)\n",
      "Requirement already satisfied, skipping upgrade: joblib>=0.11 in c:\\users\\melis\\anaconda3\\envs\\pythondata\\lib\\site-packages (from scikit-learn->sklearn) (0.14.0)\n"
     ]
    }
   ],
   "source": [
    "# Update sklearn to prevent version mismatches\n",
    "!pip install sklearn --upgrade"
   ]
  },
  {
   "cell_type": "code",
   "execution_count": 5,
   "metadata": {},
   "outputs": [
    {
     "name": "stdout",
     "output_type": "stream",
     "text": [
      "Requirement already satisfied: joblib in c:\\users\\melis\\anaconda3\\envs\\pythondata\\lib\\site-packages (0.14.0)\n"
     ]
    }
   ],
   "source": [
    "# install joblib. This will be used to save your model. \n",
    "# Restart your kernel after installing \n",
    "!pip install joblib"
   ]
  },
  {
   "cell_type": "code",
   "execution_count": 7,
   "metadata": {},
   "outputs": [
    {
     "name": "stdout",
     "output_type": "stream",
     "text": [
      "['bin 0-9.99', 'bin 10-19.99', 'bin 20-29.99', 'bin 30-39.99', 'bin 40-49.99', 'bin 50-59.99', 'bin 60-69.99', 'bin 70-79.99', 'bin 80-89.99', 'bin 90-99.99', 'bin 100-109.99', 'bin 110-119.99', 'bin 120-129.99', 'bin 130-139.99', 'bin 140-149.99', 'bin 150-159.99', 'bin 160-169.99', 'bin 170-179.99', 'bin 180-189.99', 'bin 190-199.99', 'bin 200-209.99', 'bin 210-219.99', 'bin 220-229.99', 'bin 230-239.99', 'bin 240-249.99', 'bin 250-259.99', 'bin 260-269.99', 'bin 270-279.99', 'bin 280-289.99', 'bin 290-299.99', 'bin 300-309.99', 'bin 310-319.99', 'bin 320-329.99', 'bin 330-339.99', 'bin 340-349.99', 'bin 350-359.99', 'bin 360-369.99', 'bin 370-379.99', 'bin 380-389.99', 'bin 390-399.99', 'bin 400-409.99', 'bin 410-419.99', 'bin 420-429.99', 'bin 430-439.99', 'bin 440-449.99', 'bin 450-459.99', 'bin 460-469.99', 'bin 470-479.99', 'bin 480-489.99', 'bin 490-499.99', 'bin 500-509.99', 'bin 510-519.99', 'bin 520-529.99', 'bin 530-539.99', 'bin 540-549.99', 'bin 550-559.99', 'bin 560-569.99', 'bin 570-579.99', 'bin 580-589.99', 'bin 590-599.99', 'bin 600-609.99', 'bin 610-619.99', 'bin 620-629.99', 'bin 630-639.99', 'bin 640-649.99', 'bin 650-659.99', 'bin 660-669.99', 'bin 670-679.99', 'bin 680-689.99', 'bin 690-699.99', 'bin 700-709.99', 'bin 710-719.99', 'bin 720-729.99', 'bin 730-739.99', 'bin 740-749.99', 'bin 750-759.99', 'bin 760-769.99', 'bin 770-779.99', 'bin 780-789.99', 'bin 790-799.99']\n"
     ]
    }
   ],
   "source": [
    "#This is the code used to create bins for price bins in the cleaning notebook.  It's just here for reference.\n",
    "bins = [0]\n",
    "group_names = []\n",
    "\n",
    "for i in range (0,80):\n",
    "    x = round((i*10 + 9.99),3)\n",
    "    bins.append(x)\n",
    "    name = \"bin \" + str(i*10) + \"-\" + str(x)\n",
    "    group_names.append(name)\n",
    "    \n",
    "print(group_names)    "
   ]
  },
  {
   "cell_type": "code",
   "execution_count": 8,
   "metadata": {},
   "outputs": [
    {
     "data": {
      "text/html": [
       "<div>\n",
       "<style scoped>\n",
       "    .dataframe tbody tr th:only-of-type {\n",
       "        vertical-align: middle;\n",
       "    }\n",
       "\n",
       "    .dataframe tbody tr th {\n",
       "        vertical-align: top;\n",
       "    }\n",
       "\n",
       "    .dataframe thead th {\n",
       "        text-align: right;\n",
       "    }\n",
       "</style>\n",
       "<table border=\"1\" class=\"dataframe\">\n",
       "  <thead>\n",
       "    <tr style=\"text-align: right;\">\n",
       "      <th></th>\n",
       "      <th>zipcode</th>\n",
       "      <th>room_type</th>\n",
       "      <th>accommodates</th>\n",
       "      <th>bedrooms</th>\n",
       "      <th>bathrooms</th>\n",
       "      <th>beds</th>\n",
       "      <th>minimum_nights</th>\n",
       "      <th>number_of_reviews</th>\n",
       "      <th>price</th>\n",
       "      <th>price_bin</th>\n",
       "    </tr>\n",
       "  </thead>\n",
       "  <tbody>\n",
       "    <tr>\n",
       "      <th>0</th>\n",
       "      <td>94117</td>\n",
       "      <td>Entire home/apt</td>\n",
       "      <td>3</td>\n",
       "      <td>1.0</td>\n",
       "      <td>1.0</td>\n",
       "      <td>2.0</td>\n",
       "      <td>1</td>\n",
       "      <td>240</td>\n",
       "      <td>170.0</td>\n",
       "      <td>bin 170-179.99</td>\n",
       "    </tr>\n",
       "    <tr>\n",
       "      <th>1</th>\n",
       "      <td>94110</td>\n",
       "      <td>Entire home/apt</td>\n",
       "      <td>5</td>\n",
       "      <td>2.0</td>\n",
       "      <td>1.0</td>\n",
       "      <td>3.0</td>\n",
       "      <td>30</td>\n",
       "      <td>111</td>\n",
       "      <td>235.0</td>\n",
       "      <td>bin 230-239.99</td>\n",
       "    </tr>\n",
       "    <tr>\n",
       "      <th>2</th>\n",
       "      <td>94117</td>\n",
       "      <td>Private room</td>\n",
       "      <td>2</td>\n",
       "      <td>1.0</td>\n",
       "      <td>4.0</td>\n",
       "      <td>1.0</td>\n",
       "      <td>32</td>\n",
       "      <td>19</td>\n",
       "      <td>65.0</td>\n",
       "      <td>bin 60-69.99</td>\n",
       "    </tr>\n",
       "    <tr>\n",
       "      <th>3</th>\n",
       "      <td>94117</td>\n",
       "      <td>Private room</td>\n",
       "      <td>2</td>\n",
       "      <td>1.0</td>\n",
       "      <td>4.0</td>\n",
       "      <td>1.0</td>\n",
       "      <td>32</td>\n",
       "      <td>8</td>\n",
       "      <td>65.0</td>\n",
       "      <td>bin 60-69.99</td>\n",
       "    </tr>\n",
       "    <tr>\n",
       "      <th>4</th>\n",
       "      <td>94117</td>\n",
       "      <td>Entire home/apt</td>\n",
       "      <td>4</td>\n",
       "      <td>2.0</td>\n",
       "      <td>1.5</td>\n",
       "      <td>2.0</td>\n",
       "      <td>5</td>\n",
       "      <td>28</td>\n",
       "      <td>703.0</td>\n",
       "      <td>bin 700-709.99</td>\n",
       "    </tr>\n",
       "  </tbody>\n",
       "</table>\n",
       "</div>"
      ],
      "text/plain": [
       "   zipcode        room_type  accommodates  bedrooms  bathrooms  beds  \\\n",
       "0    94117  Entire home/apt             3       1.0        1.0   2.0   \n",
       "1    94110  Entire home/apt             5       2.0        1.0   3.0   \n",
       "2    94117     Private room             2       1.0        4.0   1.0   \n",
       "3    94117     Private room             2       1.0        4.0   1.0   \n",
       "4    94117  Entire home/apt             4       2.0        1.5   2.0   \n",
       "\n",
       "   minimum_nights  number_of_reviews  price       price_bin  \n",
       "0               1                240  170.0  bin 170-179.99  \n",
       "1              30                111  235.0  bin 230-239.99  \n",
       "2              32                 19   65.0    bin 60-69.99  \n",
       "3              32                  8   65.0    bin 60-69.99  \n",
       "4               5                 28  703.0  bin 700-709.99  "
      ]
     },
     "execution_count": 8,
     "metadata": {},
     "output_type": "execute_result"
    }
   ],
   "source": [
    "file = \"data_cleaning/Output/cleaned_data.csv\"\n",
    "df = pd.read_csv(file)\n",
    "df.head()"
   ]
  },
  {
   "cell_type": "markdown",
   "metadata": {},
   "source": [
    "## Create features (X) and target (y)"
   ]
  },
  {
   "cell_type": "code",
   "execution_count": 9,
   "metadata": {},
   "outputs": [
    {
     "data": {
      "text/html": [
       "<div>\n",
       "<style scoped>\n",
       "    .dataframe tbody tr th:only-of-type {\n",
       "        vertical-align: middle;\n",
       "    }\n",
       "\n",
       "    .dataframe tbody tr th {\n",
       "        vertical-align: top;\n",
       "    }\n",
       "\n",
       "    .dataframe thead th {\n",
       "        text-align: right;\n",
       "    }\n",
       "</style>\n",
       "<table border=\"1\" class=\"dataframe\">\n",
       "  <thead>\n",
       "    <tr style=\"text-align: right;\">\n",
       "      <th></th>\n",
       "      <th>zipcode</th>\n",
       "      <th>room_type</th>\n",
       "      <th>accommodates</th>\n",
       "      <th>bedrooms</th>\n",
       "      <th>bathrooms</th>\n",
       "      <th>beds</th>\n",
       "      <th>minimum_nights</th>\n",
       "      <th>number_of_reviews</th>\n",
       "    </tr>\n",
       "  </thead>\n",
       "  <tbody>\n",
       "    <tr>\n",
       "      <th>0</th>\n",
       "      <td>94117</td>\n",
       "      <td>Entire home/apt</td>\n",
       "      <td>3</td>\n",
       "      <td>1.0</td>\n",
       "      <td>1.0</td>\n",
       "      <td>2.0</td>\n",
       "      <td>1</td>\n",
       "      <td>240</td>\n",
       "    </tr>\n",
       "    <tr>\n",
       "      <th>1</th>\n",
       "      <td>94110</td>\n",
       "      <td>Entire home/apt</td>\n",
       "      <td>5</td>\n",
       "      <td>2.0</td>\n",
       "      <td>1.0</td>\n",
       "      <td>3.0</td>\n",
       "      <td>30</td>\n",
       "      <td>111</td>\n",
       "    </tr>\n",
       "    <tr>\n",
       "      <th>2</th>\n",
       "      <td>94117</td>\n",
       "      <td>Private room</td>\n",
       "      <td>2</td>\n",
       "      <td>1.0</td>\n",
       "      <td>4.0</td>\n",
       "      <td>1.0</td>\n",
       "      <td>32</td>\n",
       "      <td>19</td>\n",
       "    </tr>\n",
       "    <tr>\n",
       "      <th>3</th>\n",
       "      <td>94117</td>\n",
       "      <td>Private room</td>\n",
       "      <td>2</td>\n",
       "      <td>1.0</td>\n",
       "      <td>4.0</td>\n",
       "      <td>1.0</td>\n",
       "      <td>32</td>\n",
       "      <td>8</td>\n",
       "    </tr>\n",
       "    <tr>\n",
       "      <th>4</th>\n",
       "      <td>94117</td>\n",
       "      <td>Entire home/apt</td>\n",
       "      <td>4</td>\n",
       "      <td>2.0</td>\n",
       "      <td>1.5</td>\n",
       "      <td>2.0</td>\n",
       "      <td>5</td>\n",
       "      <td>28</td>\n",
       "    </tr>\n",
       "  </tbody>\n",
       "</table>\n",
       "</div>"
      ],
      "text/plain": [
       "   zipcode        room_type  accommodates  bedrooms  bathrooms  beds  \\\n",
       "0    94117  Entire home/apt             3       1.0        1.0   2.0   \n",
       "1    94110  Entire home/apt             5       2.0        1.0   3.0   \n",
       "2    94117     Private room             2       1.0        4.0   1.0   \n",
       "3    94117     Private room             2       1.0        4.0   1.0   \n",
       "4    94117  Entire home/apt             4       2.0        1.5   2.0   \n",
       "\n",
       "   minimum_nights  number_of_reviews  \n",
       "0               1                240  \n",
       "1              30                111  \n",
       "2              32                 19  \n",
       "3              32                  8  \n",
       "4               5                 28  "
      ]
     },
     "execution_count": 9,
     "metadata": {},
     "output_type": "execute_result"
    }
   ],
   "source": [
    "#this is your X\n",
    "data = df.drop([\"price\", \"price_bin\"], axis=1)\n",
    "feature_names = data.columns\n",
    "data.head()"
   ]
  },
  {
   "cell_type": "code",
   "execution_count": 10,
   "metadata": {},
   "outputs": [
    {
     "data": {
      "text/plain": [
       "Index(['bin 10-19.99', 'bin 100-109.99', 'bin 110-119.99', 'bin 120-129.99',\n",
       "       'bin 130-139.99', 'bin 140-149.99', 'bin 150-159.99', 'bin 160-169.99',\n",
       "       'bin 170-179.99', 'bin 180-189.99', 'bin 190-199.99', 'bin 20-29.99',\n",
       "       'bin 200-209.99', 'bin 210-219.99', 'bin 220-229.99', 'bin 230-239.99',\n",
       "       'bin 240-249.99', 'bin 250-259.99', 'bin 260-269.99', 'bin 270-279.99',\n",
       "       'bin 280-289.99', 'bin 290-299.99', 'bin 30-39.99', 'bin 300-309.99',\n",
       "       'bin 310-319.99', 'bin 320-329.99', 'bin 330-339.99', 'bin 340-349.99',\n",
       "       'bin 350-359.99', 'bin 360-369.99', 'bin 370-379.99', 'bin 380-389.99',\n",
       "       'bin 390-399.99', 'bin 40-49.99', 'bin 400-409.99', 'bin 410-419.99',\n",
       "       'bin 420-429.99', 'bin 430-439.99', 'bin 440-449.99', 'bin 450-459.99',\n",
       "       'bin 460-469.99', 'bin 470-479.99', 'bin 480-489.99', 'bin 490-499.99',\n",
       "       'bin 50-59.99', 'bin 500-509.99', 'bin 510-519.99', 'bin 520-529.99',\n",
       "       'bin 530-539.99', 'bin 540-549.99', 'bin 550-559.99', 'bin 560-569.99',\n",
       "       'bin 570-579.99', 'bin 580-589.99', 'bin 590-599.99', 'bin 60-69.99',\n",
       "       'bin 600-609.99', 'bin 610-619.99', 'bin 620-629.99', 'bin 630-639.99',\n",
       "       'bin 640-649.99', 'bin 650-659.99', 'bin 660-669.99', 'bin 670-679.99',\n",
       "       'bin 680-689.99', 'bin 690-699.99', 'bin 70-79.99', 'bin 700-709.99',\n",
       "       'bin 710-719.99', 'bin 720-729.99', 'bin 740-749.99', 'bin 750-759.99',\n",
       "       'bin 760-769.99', 'bin 770-779.99', 'bin 790-799.99', 'bin 80-89.99',\n",
       "       'bin 90-99.99'],\n",
       "      dtype='object', name='price_bin')"
      ]
     },
     "execution_count": 10,
     "metadata": {},
     "output_type": "execute_result"
    }
   ],
   "source": [
    "#this is your y.  Convert to strings, even though it's already an array of strings, otherwise model will choke.\n",
    "target = df[\"price_bin\"].map(lambda x:str(x))\n",
    "\n",
    "df.groupby(\"price_bin\").count().index"
   ]
  },
  {
   "cell_type": "markdown",
   "metadata": {},
   "source": [
    "## LabelEncode features (X) - room_type and zipcode"
   ]
  },
  {
   "cell_type": "code",
   "execution_count": 11,
   "metadata": {},
   "outputs": [],
   "source": [
    "#code for multi-column label encoder from stack overlow:\n",
    "#https://stackoverflow.com/questions/24458645/label-encoding-across-multiple-columns-in-scikit-learn\n",
    "\n",
    "class MultiColumnLabelEncoder:\n",
    "    def __init__(self,columns = None):\n",
    "        self.columns = columns # array of column names to encode\n",
    "\n",
    "    def fit(self,X,y=None):\n",
    "        return self # not relevant here\n",
    "\n",
    "    def transform(self,X):\n",
    "        '''\n",
    "        Transforms columns of X specified in self.columns using\n",
    "        LabelEncoder(). If no columns specified, transforms all\n",
    "        columns in X.\n",
    "        '''\n",
    "        output = X.copy()\n",
    "        if self.columns is not None:\n",
    "            for col in self.columns:\n",
    "                output[col] = LabelEncoder().fit_transform(output[col])\n",
    "        else:\n",
    "            for colname,col in output.iteritems():\n",
    "                output[colname] = LabelEncoder().fit_transform(col)\n",
    "        return output\n",
    "\n",
    "    def fit_transform(self,X,y=None):\n",
    "        return self.fit(X,y).transform(X)\n"
   ]
  },
  {
   "cell_type": "code",
   "execution_count": 12,
   "metadata": {},
   "outputs": [
    {
     "data": {
      "text/html": [
       "<div>\n",
       "<style scoped>\n",
       "    .dataframe tbody tr th:only-of-type {\n",
       "        vertical-align: middle;\n",
       "    }\n",
       "\n",
       "    .dataframe tbody tr th {\n",
       "        vertical-align: top;\n",
       "    }\n",
       "\n",
       "    .dataframe thead th {\n",
       "        text-align: right;\n",
       "    }\n",
       "</style>\n",
       "<table border=\"1\" class=\"dataframe\">\n",
       "  <thead>\n",
       "    <tr style=\"text-align: right;\">\n",
       "      <th></th>\n",
       "      <th>zipcode</th>\n",
       "      <th>room_type</th>\n",
       "      <th>accommodates</th>\n",
       "      <th>bedrooms</th>\n",
       "      <th>bathrooms</th>\n",
       "      <th>beds</th>\n",
       "      <th>minimum_nights</th>\n",
       "      <th>number_of_reviews</th>\n",
       "    </tr>\n",
       "  </thead>\n",
       "  <tbody>\n",
       "    <tr>\n",
       "      <th>0</th>\n",
       "      <td>14</td>\n",
       "      <td>0</td>\n",
       "      <td>3</td>\n",
       "      <td>1.0</td>\n",
       "      <td>1.0</td>\n",
       "      <td>2.0</td>\n",
       "      <td>1</td>\n",
       "      <td>240</td>\n",
       "    </tr>\n",
       "    <tr>\n",
       "      <th>1</th>\n",
       "      <td>8</td>\n",
       "      <td>0</td>\n",
       "      <td>5</td>\n",
       "      <td>2.0</td>\n",
       "      <td>1.0</td>\n",
       "      <td>3.0</td>\n",
       "      <td>30</td>\n",
       "      <td>111</td>\n",
       "    </tr>\n",
       "    <tr>\n",
       "      <th>2</th>\n",
       "      <td>14</td>\n",
       "      <td>1</td>\n",
       "      <td>2</td>\n",
       "      <td>1.0</td>\n",
       "      <td>4.0</td>\n",
       "      <td>1.0</td>\n",
       "      <td>32</td>\n",
       "      <td>19</td>\n",
       "    </tr>\n",
       "    <tr>\n",
       "      <th>3</th>\n",
       "      <td>14</td>\n",
       "      <td>1</td>\n",
       "      <td>2</td>\n",
       "      <td>1.0</td>\n",
       "      <td>4.0</td>\n",
       "      <td>1.0</td>\n",
       "      <td>32</td>\n",
       "      <td>8</td>\n",
       "    </tr>\n",
       "    <tr>\n",
       "      <th>4</th>\n",
       "      <td>14</td>\n",
       "      <td>0</td>\n",
       "      <td>4</td>\n",
       "      <td>2.0</td>\n",
       "      <td>1.5</td>\n",
       "      <td>2.0</td>\n",
       "      <td>5</td>\n",
       "      <td>28</td>\n",
       "    </tr>\n",
       "  </tbody>\n",
       "</table>\n",
       "</div>"
      ],
      "text/plain": [
       "   zipcode  room_type  accommodates  bedrooms  bathrooms  beds  \\\n",
       "0       14          0             3       1.0        1.0   2.0   \n",
       "1        8          0             5       2.0        1.0   3.0   \n",
       "2       14          1             2       1.0        4.0   1.0   \n",
       "3       14          1             2       1.0        4.0   1.0   \n",
       "4       14          0             4       2.0        1.5   2.0   \n",
       "\n",
       "   minimum_nights  number_of_reviews  \n",
       "0               1                240  \n",
       "1              30                111  \n",
       "2              32                 19  \n",
       "3              32                  8  \n",
       "4               5                 28  "
      ]
     },
     "execution_count": 12,
     "metadata": {},
     "output_type": "execute_result"
    }
   ],
   "source": [
    "#LabelEncode room_type and zipcode.  No need to one-hot encode\n",
    "\n",
    "data2=MultiColumnLabelEncoder(columns = ['room_type', 'zipcode']).fit_transform(data)\n",
    "data2.head()"
   ]
  },
  {
   "cell_type": "code",
   "execution_count": 13,
   "metadata": {},
   "outputs": [
    {
     "data": {
      "text/html": [
       "<div>\n",
       "<style scoped>\n",
       "    .dataframe tbody tr th:only-of-type {\n",
       "        vertical-align: middle;\n",
       "    }\n",
       "\n",
       "    .dataframe tbody tr th {\n",
       "        vertical-align: top;\n",
       "    }\n",
       "\n",
       "    .dataframe thead th {\n",
       "        text-align: right;\n",
       "    }\n",
       "</style>\n",
       "<table border=\"1\" class=\"dataframe\">\n",
       "  <thead>\n",
       "    <tr style=\"text-align: right;\">\n",
       "      <th></th>\n",
       "      <th></th>\n",
       "      <th>accommodates</th>\n",
       "      <th>bedrooms</th>\n",
       "      <th>bathrooms</th>\n",
       "      <th>beds</th>\n",
       "      <th>minimum_nights</th>\n",
       "      <th>number_of_reviews</th>\n",
       "    </tr>\n",
       "    <tr>\n",
       "      <th>room_type</th>\n",
       "      <th>zipcode</th>\n",
       "      <th></th>\n",
       "      <th></th>\n",
       "      <th></th>\n",
       "      <th></th>\n",
       "      <th></th>\n",
       "      <th></th>\n",
       "    </tr>\n",
       "  </thead>\n",
       "  <tbody>\n",
       "    <tr>\n",
       "      <th rowspan=\"5\" valign=\"top\">0</th>\n",
       "      <th>0</th>\n",
       "      <td>16</td>\n",
       "      <td>16</td>\n",
       "      <td>16</td>\n",
       "      <td>16</td>\n",
       "      <td>16</td>\n",
       "      <td>16</td>\n",
       "    </tr>\n",
       "    <tr>\n",
       "      <th>1</th>\n",
       "      <td>228</td>\n",
       "      <td>228</td>\n",
       "      <td>228</td>\n",
       "      <td>228</td>\n",
       "      <td>228</td>\n",
       "      <td>228</td>\n",
       "    </tr>\n",
       "    <tr>\n",
       "      <th>2</th>\n",
       "      <td>300</td>\n",
       "      <td>300</td>\n",
       "      <td>300</td>\n",
       "      <td>300</td>\n",
       "      <td>300</td>\n",
       "      <td>300</td>\n",
       "    </tr>\n",
       "    <tr>\n",
       "      <th>3</th>\n",
       "      <td>6</td>\n",
       "      <td>6</td>\n",
       "      <td>6</td>\n",
       "      <td>6</td>\n",
       "      <td>6</td>\n",
       "      <td>6</td>\n",
       "    </tr>\n",
       "    <tr>\n",
       "      <th>4</th>\n",
       "      <td>134</td>\n",
       "      <td>134</td>\n",
       "      <td>134</td>\n",
       "      <td>134</td>\n",
       "      <td>134</td>\n",
       "      <td>134</td>\n",
       "    </tr>\n",
       "    <tr>\n",
       "      <th>...</th>\n",
       "      <th>...</th>\n",
       "      <td>...</td>\n",
       "      <td>...</td>\n",
       "      <td>...</td>\n",
       "      <td>...</td>\n",
       "      <td>...</td>\n",
       "      <td>...</td>\n",
       "    </tr>\n",
       "    <tr>\n",
       "      <th rowspan=\"5\" valign=\"top\">2</th>\n",
       "      <th>17</th>\n",
       "      <td>5</td>\n",
       "      <td>5</td>\n",
       "      <td>5</td>\n",
       "      <td>5</td>\n",
       "      <td>5</td>\n",
       "      <td>5</td>\n",
       "    </tr>\n",
       "    <tr>\n",
       "      <th>19</th>\n",
       "      <td>2</td>\n",
       "      <td>2</td>\n",
       "      <td>2</td>\n",
       "      <td>2</td>\n",
       "      <td>2</td>\n",
       "      <td>2</td>\n",
       "    </tr>\n",
       "    <tr>\n",
       "      <th>23</th>\n",
       "      <td>1</td>\n",
       "      <td>1</td>\n",
       "      <td>1</td>\n",
       "      <td>1</td>\n",
       "      <td>1</td>\n",
       "      <td>1</td>\n",
       "    </tr>\n",
       "    <tr>\n",
       "      <th>24</th>\n",
       "      <td>39</td>\n",
       "      <td>39</td>\n",
       "      <td>39</td>\n",
       "      <td>39</td>\n",
       "      <td>39</td>\n",
       "      <td>39</td>\n",
       "    </tr>\n",
       "    <tr>\n",
       "      <th>26</th>\n",
       "      <td>4</td>\n",
       "      <td>4</td>\n",
       "      <td>4</td>\n",
       "      <td>4</td>\n",
       "      <td>4</td>\n",
       "      <td>4</td>\n",
       "    </tr>\n",
       "  </tbody>\n",
       "</table>\n",
       "<p>73 rows × 6 columns</p>\n",
       "</div>"
      ],
      "text/plain": [
       "                   accommodates  bedrooms  bathrooms  beds  minimum_nights  \\\n",
       "room_type zipcode                                                            \n",
       "0         0                  16        16         16    16              16   \n",
       "          1                 228       228        228   228             228   \n",
       "          2                 300       300        300   300             300   \n",
       "          3                   6         6          6     6               6   \n",
       "          4                 134       134        134   134             134   \n",
       "...                         ...       ...        ...   ...             ...   \n",
       "2         17                  5         5          5     5               5   \n",
       "          19                  2         2          2     2               2   \n",
       "          23                  1         1          1     1               1   \n",
       "          24                 39        39         39    39              39   \n",
       "          26                  4         4          4     4               4   \n",
       "\n",
       "                   number_of_reviews  \n",
       "room_type zipcode                     \n",
       "0         0                       16  \n",
       "          1                      228  \n",
       "          2                      300  \n",
       "          3                        6  \n",
       "          4                      134  \n",
       "...                              ...  \n",
       "2         17                       5  \n",
       "          19                       2  \n",
       "          23                       1  \n",
       "          24                      39  \n",
       "          26                       4  \n",
       "\n",
       "[73 rows x 6 columns]"
      ]
     },
     "execution_count": 13,
     "metadata": {},
     "output_type": "execute_result"
    }
   ],
   "source": [
    "data2.groupby(['room_type', 'zipcode' ]).count()"
   ]
  },
  {
   "cell_type": "markdown",
   "metadata": {},
   "source": [
    "##  Create Train Test Split\n"
   ]
  },
  {
   "cell_type": "code",
   "execution_count": 15,
   "metadata": {
    "scrolled": true
   },
   "outputs": [],
   "source": [
    "from sklearn.model_selection import train_test_split\n",
    "\n",
    "#had to use a smaller test size .1\n",
    "#otherwise we have labels in the test split that are not in the train split, and the model chokes\n",
    "X_train, X_test, y_train, y_test = train_test_split(data2, target, random_state=4, test_size = .1)"
   ]
  },
  {
   "cell_type": "markdown",
   "metadata": {},
   "source": [
    "## Encode y labels (label encoder and one hot encode)"
   ]
  },
  {
   "cell_type": "code",
   "execution_count": 21,
   "metadata": {},
   "outputs": [
    {
     "data": {
      "text/plain": [
       "78"
      ]
     },
     "execution_count": 21,
     "metadata": {},
     "output_type": "execute_result"
    }
   ],
   "source": [
    "label_encoder = LabelEncoder()\n",
    "label_encoder.fit(y_train)\n",
    "encoded_y_train = label_encoder.transform(y_train)\n",
    "encoded_y_test = label_encoder.transform(y_test)\n",
    "y_train_categorical = to_categorical(encoded_y_train)\n",
    "y_test_categorical = to_categorical(encoded_y_test)\n",
    "\n",
    "#77 columns in y_test and y_train\n",
    "len(y_test_categorical[0])\n",
    "y_test_categorical[0]\n",
    "len(y_train_categorical[0])"
   ]
  },
  {
   "cell_type": "markdown",
   "metadata": {},
   "source": [
    "## Scale the features/data (X)\n",
    "Scale the data using the MinMaxScaler and perform some feature selection"
   ]
  },
  {
   "cell_type": "code",
   "execution_count": 22,
   "metadata": {},
   "outputs": [
    {
     "data": {
      "text/plain": [
       "array([[2.69230769e-01, 0.00000000e+00, 1.33333333e-01, ...,\n",
       "        1.42857143e-01, 2.00000002e-08, 0.00000000e+00],\n",
       "       [4.23076923e-01, 0.00000000e+00, 1.33333333e-01, ...,\n",
       "        1.42857143e-01, 1.00000001e-08, 2.07064555e-02],\n",
       "       [3.84615385e-01, 5.00000000e-01, 6.66666667e-02, ...,\n",
       "        7.14285714e-02, 1.00000001e-08, 6.09013398e-03],\n",
       "       ...,\n",
       "       [3.84615385e-02, 0.00000000e+00, 6.66666667e-02, ...,\n",
       "        7.14285714e-02, 0.00000000e+00, 9.62241169e-02],\n",
       "       [9.23076923e-01, 0.00000000e+00, 2.00000000e-01, ...,\n",
       "        1.42857143e-01, 2.90000003e-07, 8.89159562e-02],\n",
       "       [8.46153846e-01, 0.00000000e+00, 6.66666667e-02, ...,\n",
       "        7.14285714e-02, 2.90000003e-07, 1.82704019e-02]])"
      ]
     },
     "execution_count": 22,
     "metadata": {},
     "output_type": "execute_result"
    }
   ],
   "source": [
    "X_minmax = MinMaxScaler().fit(X_train)\n",
    "\n",
    "X_train_scaled = X_minmax.transform(X_train)\n",
    "X_test_scaled= X_minmax.transform(X_test)\n",
    "\n",
    "X_train_scaled"
   ]
  },
  {
   "cell_type": "markdown",
   "metadata": {},
   "source": [
    "## Train the Model (Deep Learning)"
   ]
  },
  {
   "cell_type": "code",
   "execution_count": 23,
   "metadata": {},
   "outputs": [
    {
     "data": {
      "text/plain": [
       "(7007, 8)"
      ]
     },
     "execution_count": 23,
     "metadata": {},
     "output_type": "execute_result"
    }
   ],
   "source": [
    "#get number of feature columns.  This will be the input dimension for the model.\n",
    "X_train_scaled.shape\n",
    "#X_train_scaled.shape[1]"
   ]
  },
  {
   "cell_type": "code",
   "execution_count": 24,
   "metadata": {},
   "outputs": [
    {
     "data": {
      "text/plain": [
       "(7007, 78)"
      ]
     },
     "execution_count": 24,
     "metadata": {},
     "output_type": "execute_result"
    }
   ],
   "source": [
    "y_train_categorical.shape\n",
    "\n",
    "#y_train_categorical.shape[1]"
   ]
  },
  {
   "cell_type": "code",
   "execution_count": 25,
   "metadata": {},
   "outputs": [],
   "source": [
    "#create the deep learning model\n",
    "\n",
    "from tensorflow.keras.models import Sequential\n",
    "from tensorflow.keras.layers import Dense\n",
    "\n",
    "# Create an empty sequential model\n",
    "model = Sequential()\n",
    "\n",
    "# Add the first layer where the input dimensions are the 8 columns of the training data\n",
    "#dense is units, but don't know of what\n",
    "model.add(Dense(100, activation='relu', input_dim=X_train_scaled.shape[1]))\n",
    "\n",
    "# Add a second hidden layer\n",
    "model.add(Dense(100, activation='relu'))\n",
    "\n",
    "# Add output layer.  There are 78 columns in y_train_categorical.shape[1]\n",
    "model.add(Dense(78, activation=\"softmax\"))"
   ]
  },
  {
   "cell_type": "code",
   "execution_count": 26,
   "metadata": {},
   "outputs": [],
   "source": [
    "# Compile the model using categorical_crossentropy for the loss function, the adam optimizer,\n",
    "# and add accuracy to the training metrics\n",
    "model.compile(loss=\"categorical_crossentropy\",\n",
    "              optimizer=\"adam\", metrics=['accuracy'])"
   ]
  },
  {
   "cell_type": "code",
   "execution_count": 27,
   "metadata": {},
   "outputs": [
    {
     "name": "stdout",
     "output_type": "stream",
     "text": [
      "Model: \"sequential\"\n",
      "_________________________________________________________________\n",
      "Layer (type)                 Output Shape              Param #   \n",
      "=================================================================\n",
      "dense (Dense)                (None, 100)               900       \n",
      "_________________________________________________________________\n",
      "dense_1 (Dense)              (None, 100)               10100     \n",
      "_________________________________________________________________\n",
      "dense_2 (Dense)              (None, 78)                7878      \n",
      "=================================================================\n",
      "Total params: 18,878\n",
      "Trainable params: 18,878\n",
      "Non-trainable params: 0\n",
      "_________________________________________________________________\n"
     ]
    }
   ],
   "source": [
    "model.summary()"
   ]
  },
  {
   "cell_type": "code",
   "execution_count": null,
   "metadata": {},
   "outputs": [
    {
     "name": "stdout",
     "output_type": "stream",
     "text": [
      "Train on 7007 samples\n",
      "Epoch 1/100\n",
      "7007/7007 - 1s - loss: 3.6558 - accuracy: 0.0588\n",
      "Epoch 2/100\n",
      "7007/7007 - 1s - loss: 3.2687 - accuracy: 0.0945\n",
      "Epoch 3/100\n",
      "7007/7007 - 0s - loss: 3.1983 - accuracy: 0.0983\n",
      "Epoch 4/100\n",
      "7007/7007 - 0s - loss: 3.1727 - accuracy: 0.1060\n",
      "Epoch 5/100\n",
      "7007/7007 - 1s - loss: 3.1555 - accuracy: 0.1089\n",
      "Epoch 6/100\n",
      "7007/7007 - 0s - loss: 3.1440 - accuracy: 0.1112\n",
      "Epoch 7/100\n",
      "7007/7007 - 0s - loss: 3.1284 - accuracy: 0.1180\n",
      "Epoch 8/100\n",
      "7007/7007 - 0s - loss: 3.1194 - accuracy: 0.1167\n",
      "Epoch 9/100\n",
      "7007/7007 - 0s - loss: 3.1093 - accuracy: 0.1193\n",
      "Epoch 10/100\n",
      "7007/7007 - 0s - loss: 3.1022 - accuracy: 0.1243\n",
      "Epoch 11/100\n",
      "7007/7007 - 0s - loss: 3.0955 - accuracy: 0.1199\n",
      "Epoch 12/100\n",
      "7007/7007 - 0s - loss: 3.0888 - accuracy: 0.1243\n",
      "Epoch 13/100\n",
      "7007/7007 - 0s - loss: 3.0818 - accuracy: 0.1277\n",
      "Epoch 14/100\n",
      "7007/7007 - 1s - loss: 3.0750 - accuracy: 0.1272\n",
      "Epoch 15/100\n",
      "7007/7007 - 1s - loss: 3.0702 - accuracy: 0.1274\n",
      "Epoch 16/100\n",
      "7007/7007 - 1s - loss: 3.0650 - accuracy: 0.1290\n",
      "Epoch 17/100\n",
      "7007/7007 - 0s - loss: 3.0591 - accuracy: 0.1274\n",
      "Epoch 18/100\n",
      "7007/7007 - 1s - loss: 3.0584 - accuracy: 0.1293\n",
      "Epoch 19/100\n",
      "7007/7007 - 0s - loss: 3.0499 - accuracy: 0.1337\n",
      "Epoch 20/100\n",
      "7007/7007 - 0s - loss: 3.0448 - accuracy: 0.1320\n",
      "Epoch 21/100\n",
      "7007/7007 - 0s - loss: 3.0415 - accuracy: 0.1347\n",
      "Epoch 22/100\n",
      "7007/7007 - 1s - loss: 3.0375 - accuracy: 0.1354\n",
      "Epoch 23/100\n",
      "7007/7007 - 1s - loss: 3.0316 - accuracy: 0.1376\n",
      "Epoch 24/100\n",
      "7007/7007 - 0s - loss: 3.0297 - accuracy: 0.1364\n",
      "Epoch 25/100\n",
      "7007/7007 - 0s - loss: 3.0246 - accuracy: 0.1413\n",
      "Epoch 26/100\n",
      "7007/7007 - 0s - loss: 3.0175 - accuracy: 0.1401\n",
      "Epoch 27/100\n",
      "7007/7007 - 0s - loss: 3.0153 - accuracy: 0.1393\n",
      "Epoch 28/100\n",
      "7007/7007 - 0s - loss: 3.0123 - accuracy: 0.1423\n",
      "Epoch 29/100\n",
      "7007/7007 - 0s - loss: 3.0075 - accuracy: 0.1436\n",
      "Epoch 30/100\n",
      "7007/7007 - 0s - loss: 3.0047 - accuracy: 0.1424\n",
      "Epoch 31/100\n",
      "7007/7007 - 0s - loss: 2.9999 - accuracy: 0.1414\n",
      "Epoch 32/100\n",
      "7007/7007 - 0s - loss: 2.9969 - accuracy: 0.1454\n",
      "Epoch 33/100\n",
      "7007/7007 - 0s - loss: 2.9923 - accuracy: 0.1444\n",
      "Epoch 34/100\n",
      "7007/7007 - 0s - loss: 2.9887 - accuracy: 0.1463\n",
      "Epoch 35/100\n",
      "7007/7007 - 0s - loss: 2.9832 - accuracy: 0.1427\n",
      "Epoch 36/100\n",
      "7007/7007 - 0s - loss: 2.9828 - accuracy: 0.1450\n",
      "Epoch 37/100\n",
      "7007/7007 - 0s - loss: 2.9782 - accuracy: 0.1490\n",
      "Epoch 38/100\n",
      "7007/7007 - 0s - loss: 2.9756 - accuracy: 0.1467\n",
      "Epoch 39/100\n",
      "7007/7007 - 0s - loss: 2.9725 - accuracy: 0.1494\n",
      "Epoch 40/100\n",
      "7007/7007 - 1s - loss: 2.9691 - accuracy: 0.1504\n",
      "Epoch 41/100\n",
      "7007/7007 - 0s - loss: 2.9639 - accuracy: 0.1493\n",
      "Epoch 42/100\n",
      "7007/7007 - 0s - loss: 2.9591 - accuracy: 0.1508\n",
      "Epoch 43/100\n",
      "7007/7007 - 0s - loss: 2.9569 - accuracy: 0.1520\n",
      "Epoch 44/100\n",
      "7007/7007 - 0s - loss: 2.9540 - accuracy: 0.1573\n",
      "Epoch 45/100\n",
      "7007/7007 - 0s - loss: 2.9506 - accuracy: 0.1554\n",
      "Epoch 46/100\n",
      "7007/7007 - 0s - loss: 2.9482 - accuracy: 0.1584\n",
      "Epoch 47/100\n",
      "7007/7007 - 0s - loss: 2.9444 - accuracy: 0.1563\n",
      "Epoch 48/100\n",
      "7007/7007 - 0s - loss: 2.9434 - accuracy: 0.1573\n",
      "Epoch 49/100\n",
      "7007/7007 - 0s - loss: 2.9360 - accuracy: 0.1577\n",
      "Epoch 50/100\n",
      "7007/7007 - 0s - loss: 2.9374 - accuracy: 0.1548\n",
      "Epoch 51/100\n",
      "7007/7007 - 0s - loss: 2.9321 - accuracy: 0.1594\n",
      "Epoch 52/100\n",
      "7007/7007 - 0s - loss: 2.9296 - accuracy: 0.1574\n",
      "Epoch 53/100\n",
      "7007/7007 - 0s - loss: 2.9259 - accuracy: 0.1613\n",
      "Epoch 54/100\n",
      "7007/7007 - 0s - loss: 2.9241 - accuracy: 0.1638\n",
      "Epoch 55/100\n",
      "7007/7007 - 0s - loss: 2.9222 - accuracy: 0.1620\n",
      "Epoch 56/100\n",
      "7007/7007 - 0s - loss: 2.9188 - accuracy: 0.1647\n",
      "Epoch 57/100\n",
      "7007/7007 - 0s - loss: 2.9152 - accuracy: 0.1643\n",
      "Epoch 58/100\n",
      "7007/7007 - 1s - loss: 2.9118 - accuracy: 0.1620\n",
      "Epoch 59/100\n",
      "7007/7007 - 1s - loss: 2.9102 - accuracy: 0.1688\n",
      "Epoch 60/100\n",
      "7007/7007 - 0s - loss: 2.9097 - accuracy: 0.1664\n",
      "Epoch 61/100\n",
      "7007/7007 - 0s - loss: 2.9046 - accuracy: 0.1650\n",
      "Epoch 62/100\n",
      "7007/7007 - 1s - loss: 2.9049 - accuracy: 0.1670\n",
      "Epoch 63/100\n",
      "7007/7007 - 0s - loss: 2.8989 - accuracy: 0.1677\n",
      "Epoch 64/100\n",
      "7007/7007 - 1s - loss: 2.8968 - accuracy: 0.1668\n",
      "Epoch 65/100\n",
      "7007/7007 - 0s - loss: 2.8932 - accuracy: 0.1665\n",
      "Epoch 66/100\n",
      "7007/7007 - 1s - loss: 2.8924 - accuracy: 0.1636\n",
      "Epoch 67/100\n",
      "7007/7007 - 1s - loss: 2.8889 - accuracy: 0.1683\n",
      "Epoch 68/100\n",
      "7007/7007 - 0s - loss: 2.8891 - accuracy: 0.1710\n",
      "Epoch 69/100\n",
      "7007/7007 - 1s - loss: 2.8846 - accuracy: 0.1688\n",
      "Epoch 70/100\n",
      "7007/7007 - 0s - loss: 2.8822 - accuracy: 0.1680\n",
      "Epoch 71/100\n",
      "7007/7007 - 0s - loss: 2.8804 - accuracy: 0.1667\n",
      "Epoch 72/100\n",
      "7007/7007 - 0s - loss: 2.8751 - accuracy: 0.1713\n",
      "Epoch 73/100\n",
      "7007/7007 - 0s - loss: 2.8735 - accuracy: 0.1745\n",
      "Epoch 74/100\n",
      "7007/7007 - 0s - loss: 2.8706 - accuracy: 0.1771\n",
      "Epoch 75/100\n",
      "7007/7007 - 0s - loss: 2.8690 - accuracy: 0.1685\n",
      "Epoch 76/100\n",
      "7007/7007 - 0s - loss: 2.8663 - accuracy: 0.1730\n",
      "Epoch 77/100\n",
      "7007/7007 - 0s - loss: 2.8647 - accuracy: 0.1705\n",
      "Epoch 78/100\n",
      "7007/7007 - 0s - loss: 2.8622 - accuracy: 0.1697\n",
      "Epoch 79/100\n",
      "7007/7007 - 0s - loss: 2.8598 - accuracy: 0.1761\n",
      "Epoch 80/100\n",
      "7007/7007 - 0s - loss: 2.8579 - accuracy: 0.1767\n",
      "Epoch 81/100\n",
      "7007/7007 - 0s - loss: 2.8537 - accuracy: 0.1741\n",
      "Epoch 82/100\n",
      "7007/7007 - 0s - loss: 2.8516 - accuracy: 0.1765\n",
      "Epoch 83/100\n",
      "7007/7007 - 0s - loss: 2.8498 - accuracy: 0.1774\n",
      "Epoch 84/100\n",
      "7007/7007 - 1s - loss: 2.8464 - accuracy: 0.1731\n",
      "Epoch 85/100\n",
      "7007/7007 - 0s - loss: 2.8452 - accuracy: 0.1757\n",
      "Epoch 86/100\n",
      "7007/7007 - 0s - loss: 2.8437 - accuracy: 0.1758\n",
      "Epoch 87/100\n",
      "7007/7007 - 1s - loss: 2.8405 - accuracy: 0.1761\n",
      "Epoch 88/100\n",
      "7007/7007 - 0s - loss: 2.8351 - accuracy: 0.1785\n",
      "Epoch 89/100\n",
      "7007/7007 - 0s - loss: 2.8358 - accuracy: 0.1750\n",
      "Epoch 90/100\n",
      "7007/7007 - 0s - loss: 2.8331 - accuracy: 0.1783\n",
      "Epoch 91/100\n",
      "7007/7007 - 0s - loss: 2.8308 - accuracy: 0.1791\n",
      "Epoch 92/100\n",
      "7007/7007 - 1s - loss: 2.8275 - accuracy: 0.1748\n",
      "Epoch 93/100\n",
      "7007/7007 - 1s - loss: 2.8247 - accuracy: 0.1801\n",
      "Epoch 94/100\n"
     ]
    }
   ],
   "source": [
    " # Use the training data to fit (train) the model\n",
    "model.fit(\n",
    "    X_train_scaled,\n",
    "    y_train_categorical,\n",
    "    epochs=100,\n",
    "    shuffle=True,\n",
    "    verbose=2\n",
    ")"
   ]
  },
  {
   "cell_type": "markdown",
   "metadata": {},
   "source": [
    "## Evaluate the model"
   ]
  },
  {
   "cell_type": "code",
   "execution_count": null,
   "metadata": {},
   "outputs": [],
   "source": [
    "X_train_scaled.shape"
   ]
  },
  {
   "cell_type": "code",
   "execution_count": null,
   "metadata": {},
   "outputs": [],
   "source": [
    "y_train_categorical.shape"
   ]
  },
  {
   "cell_type": "code",
   "execution_count": null,
   "metadata": {},
   "outputs": [],
   "source": [
    "y_test_categorical\n",
    "\n",
    "y_test_categorical.shape"
   ]
  },
  {
   "cell_type": "code",
   "execution_count": null,
   "metadata": {},
   "outputs": [],
   "source": [
    "X_test_scaled.shape"
   ]
  },
  {
   "cell_type": "code",
   "execution_count": null,
   "metadata": {},
   "outputs": [],
   "source": [
    "model_loss, model_accuracy = model.evaluate(\n",
    "    X_test_scaled, y_test_categorical, verbose=2)\n",
    "print(\n",
    "    f\"Normal Neural Network - Loss: {model_loss}, Accuracy: {model_accuracy}\")"
   ]
  },
  {
   "cell_type": "markdown",
   "metadata": {},
   "source": [
    "## Score the model"
   ]
  },
  {
   "cell_type": "code",
   "execution_count": null,
   "metadata": {},
   "outputs": [],
   "source": [
    "print(f\"Deep Learning Training Data Score r2: {model.score(X_train_scaled, y_train_categorical)}\")\n",
    "print(f\"Deep Learning, Neural network Testing Data Score r2: {model.score(X_test_scaled, y_test_categorical)}\")\n"
   ]
  },
  {
   "cell_type": "markdown",
   "metadata": {},
   "source": [
    "## Hyperparameter Tuning\n",
    "\n",
    "Use GridSearchCV to tune the model's parameters"
   ]
  },
  {
   "cell_type": "code",
   "execution_count": null,
   "metadata": {},
   "outputs": [],
   "source": [
    "# Create the GridSearchCV model\n",
    "from sklearn.model_selection import GridSearchCV\n",
    "param_grid = {'n_estimators': [250, 300, 350],\n",
    "              'max_depth': [125, 150, 175]}\n",
    "grid = GridSearchCV(model, param_grid, verbose=3)"
   ]
  },
  {
   "cell_type": "code",
   "execution_count": null,
   "metadata": {},
   "outputs": [],
   "source": [
    "# Train the model with GridSearch\n",
    "grid.fit(X_train_scaled, y_train_categorical)"
   ]
  },
  {
   "cell_type": "code",
   "execution_count": null,
   "metadata": {},
   "outputs": [],
   "source": [
    "print(grid.best_params_)\n",
    "print(grid.best_score_)"
   ]
  },
  {
   "cell_type": "code",
   "execution_count": null,
   "metadata": {},
   "outputs": [],
   "source": [
    "# Training score:\n",
    "grid.score(X_train_scaled, y_train_categorical)"
   ]
  },
  {
   "cell_type": "code",
   "execution_count": null,
   "metadata": {},
   "outputs": [],
   "source": [
    "# Testing score:\n",
    "grid.score(X_test_scaled, y_test_categorical)"
   ]
  },
  {
   "cell_type": "code",
   "execution_count": null,
   "metadata": {},
   "outputs": [],
   "source": [
    "# Make prediction and save to variable for report.\n",
    "predictions = grid.predict(X_test_scaled)"
   ]
  },
  {
   "cell_type": "code",
   "execution_count": null,
   "metadata": {},
   "outputs": [],
   "source": [
    "# Print Classification Report\n",
    "from sklearn.metrics import classification_report\n",
    "print(classification_report(y_test_categorical, predictions))"
   ]
  },
  {
   "cell_type": "code",
   "execution_count": null,
   "metadata": {},
   "outputs": [],
   "source": [
    "#????????????????????  WHAT IS THIS?\n",
    "%matplotlib notebook\n",
    "from yellowbrick.classifier import ClassificationReport\n",
    "viz = ClassificationReport(RandomForestClassifier())\n",
    "viz.fit(X_train_scaled, y_train)\n",
    "viz.score(X_test_scaled, y_test)\n",
    "viz.finalize()\n",
    "viz.show(outpath=\"classificationreport.png\")"
   ]
  },
  {
   "cell_type": "markdown",
   "metadata": {},
   "source": [
    "## Save the Model"
   ]
  },
  {
   "cell_type": "code",
   "execution_count": null,
   "metadata": {},
   "outputs": [],
   "source": [
    "# save your model by updating \"your_name\" with your name\n",
    "# and \"your_model\" with your model variable\n",
    "# be sure to turn this in to BCS\n",
    "# if joblib fails to import, try running the command to install in terminal/git-bash\n",
    "import joblib\n",
    "filename = 'models.sav'\n",
    "joblib.dump(model, filename)"
   ]
  },
  {
   "cell_type": "markdown",
   "metadata": {},
   "source": [
    "### Correlation Matrix"
   ]
  },
  {
   "cell_type": "code",
   "execution_count": null,
   "metadata": {
    "scrolled": true
   },
   "outputs": [],
   "source": [
    "corrMatrix = df.corr()\n",
    "print (corrMatrix)\n",
    "sn.heatmap(corrMatrix, annot=True)\n",
    "plt.tight_layout()\n",
    "plt.autoscale()\n",
    "\n",
    "plt.savefig('correlation_matrix.png', bbox_inches='tight', pad_inches=0.0)\n",
    "plt.show()"
   ]
  },
  {
   "cell_type": "code",
   "execution_count": null,
   "metadata": {},
   "outputs": [],
   "source": []
  },
  {
   "cell_type": "code",
   "execution_count": null,
   "metadata": {},
   "outputs": [],
   "source": [
    "\n"
   ]
  },
  {
   "cell_type": "code",
   "execution_count": null,
   "metadata": {},
   "outputs": [],
   "source": [
    "\n"
   ]
  },
  {
   "cell_type": "code",
   "execution_count": null,
   "metadata": {},
   "outputs": [],
   "source": []
  },
  {
   "cell_type": "code",
   "execution_count": null,
   "metadata": {},
   "outputs": [],
   "source": []
  },
  {
   "cell_type": "code",
   "execution_count": null,
   "metadata": {},
   "outputs": [],
   "source": []
  },
  {
   "cell_type": "code",
   "execution_count": null,
   "metadata": {},
   "outputs": [],
   "source": []
  },
  {
   "cell_type": "code",
   "execution_count": null,
   "metadata": {},
   "outputs": [],
   "source": []
  },
  {
   "cell_type": "code",
   "execution_count": null,
   "metadata": {},
   "outputs": [],
   "source": []
  },
  {
   "cell_type": "code",
   "execution_count": null,
   "metadata": {},
   "outputs": [],
   "source": []
  }
 ],
 "metadata": {
  "kernelspec": {
   "display_name": "Python 3.7.5 64-bit ('PythonData': conda)",
   "language": "python",
   "name": "python37564bitpythondatacondaae454f6158844ced94d3e9e6f558e103"
  },
  "language_info": {
   "codemirror_mode": {
    "name": "ipython",
    "version": 3
   },
   "file_extension": ".py",
   "mimetype": "text/x-python",
   "name": "python",
   "nbconvert_exporter": "python",
   "pygments_lexer": "ipython3",
   "version": "3.7.5"
  }
 },
 "nbformat": 4,
 "nbformat_minor": 2
}
